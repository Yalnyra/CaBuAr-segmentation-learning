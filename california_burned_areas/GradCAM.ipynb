{
  "nbformat": 4,
  "nbformat_minor": 0,
  "metadata": {
    "colab": {
      "provenance": []
    },
    "kernelspec": {
      "name": "python3",
      "display_name": "Python 3"
    },
    "language_info": {
      "name": "python"
    }
  },
  "cells": [
    {
      "cell_type": "markdown",
      "source": [
        "### Visualizing gradient changes from fire class\n",
        "\n",
        "### Using GradCAM"
      ],
      "metadata": {
        "id": "EnTbK53p0pch"
      }
    },
    {
      "cell_type": "markdown",
      "source": [
        "- Let's flatten the nested model layer structure for easy access"
      ],
      "metadata": {
        "id": "D8a6bb8R1aVa"
      }
    },
    {
      "cell_type": "code",
      "source": [
        "def tracesubmodules(module, inputs):\n",
        "    handles, modules = [], []\n",
        "\n",
        "    def trace(module, inputs, outputs):\n",
        "        modules.append(module)\n",
        "\n",
        "    def traverse(module):\n",
        "        for m in module.children():\n",
        "            traverse(m)  # recursion is love\n",
        "        is_leaf = len(list(module.children())) == 0\n",
        "        if is_leaf: handles.append(module.register_forward_hook(trace))\n",
        "\n",
        "    traverse(module)\n",
        "\n",
        "    _ = module(inputs)\n",
        "\n",
        "    [h.remove() for h in handles]\n",
        "\n",
        "    return modules"
      ],
      "metadata": {
        "id": "no43MZbP1Zny"
      },
      "execution_count": null,
      "outputs": []
    },
    {
      "cell_type": "code",
      "source": [
        "def draw_single_mask(batch_img, n_channels, batch_size, caption:str):\n",
        "    x, y = batch_img\n",
        "    fig, axes = plt.subplots(batch_size // 2, 2, figsize=(15,8))\n",
        "    fig.suptitle(f\"{caption}\", fontsize=20)\n",
        "    im_pos = 0\n",
        "    for i in range(batch_size):\n",
        "        axes[im_pos % 2].imshow(x[i].squeeze().view(_INPUT_SIZE,_INPUT_SIZE, n_channels).cpu().numpy())\n",
        "        im_pos += 1\n",
        "        axes[im_pos % 2].imshow(x[i].squeeze().view(_INPUT_SIZE,_INPUT_SIZE,n_channels).cpu().numpy())\n",
        "        axes[im_pos % 2].imshow(y[i].view(_INPUT_SIZE,_INPUT_SIZE,1).cpu().numpy(), cmap='jet', alpha=0.5)\n",
        "        im_pos += 1\n",
        "    plt.show()"
      ],
      "metadata": {
        "id": "33kH_OilUTA7"
      },
      "execution_count": null,
      "outputs": []
    },
    {
      "cell_type": "code",
      "source": [
        "from torch.autograd import Variable\n",
        "\n",
        "class GradCam():\n",
        "    def __init__(self, module, device, *args, **kwargs):\n",
        "        self.module, self.device = module, device\n",
        "        self.handles = []\n",
        "        self.gradients = None\n",
        "        self.conv_outputs = None\n",
        "\n",
        "    def store_outputs_and_grad(self, layer):\n",
        "        def store_grads(module, grad_in, grad_out):\n",
        "            self.gradients = grad_out[0]\n",
        "\n",
        "        def store_outputs(module, input, outputs):\n",
        "            if module == layer:\n",
        "                self.conv_outputs = outputs\n",
        "\n",
        "        self.handles.append(layer.register_forward_hook(store_outputs))\n",
        "        self.handles.append(layer.register_full_backward_hook(store_grads))\n",
        "        # self.handles.append(layer.register_full_backward_hook(store_grads))\n",
        "\n",
        "    def guide(self, module):\n",
        "        def guide_relu(module, grad_in, grad_out):\n",
        "            return (torch.clamp(grad_out[0], min=0.0),)\n",
        "\n",
        "        for module in module.modules():\n",
        "            if isinstance(module, nn.ReLU):\n",
        "                #self.handles.append(module.register_full_backward_hook(guide_relu))\n",
        "                self.handles.append(module.register_backward_hook(guide_relu))\n",
        "\n",
        "\n",
        "    def clean(self):\n",
        "        [h.remove() for h in self.handles]\n",
        "\n",
        "    def __call__(self, input_image, target_image, layer, guide=False, target_class=None, postprocessing=lambda x: x, regression=False):\n",
        "        self.clean()\n",
        "        self.module.zero_grad()\n",
        "\n",
        "        if layer is None:\n",
        "            modules = tracesubmodules(self.module, input_image)\n",
        "            for i, module in enumerate(modules):\n",
        "                if isinstance(module, nn.Conv2d):\n",
        "                    layer = module\n",
        "\n",
        "        self.store_outputs_and_grad(layer)\n",
        "\n",
        "        if guide: self.guide(self.module)\n",
        "\n",
        "        input_var = Variable(input_image, requires_grad=True).to(self.device)\n",
        "        predictions = self.module(input_var)\n",
        "\n",
        "        if target_class is None: values, target_class = torch.max(predictions, dim=1)\n",
        "        if regression: predictions.backward(gradient=target_class, retain_graph=True)\n",
        "        else:\n",
        "            target = target_image.to(self.device)\n",
        "            # target[0][target_class] = 1\n",
        "            predictions.backward(gradient=target, retain_graph=True)\n",
        "\n",
        "        with torch.no_grad():\n",
        "            avg_channel_grad = F.adaptive_avg_pool2d(self.gradients.data, 1)\n",
        "            self.cam = F.relu(torch.sum(self.conv_outputs[0] * avg_channel_grad[0], dim=0))\n",
        "            print(self.cam.shape)\n",
        "            # Extract heatmap from the torch compute graph, disable gradient computation\n",
        "\n",
        "            # normalize\n",
        "\n",
        "\n",
        "            # image_with_heatmap = tensor2cam(postprocessing(input_image.squeeze().cpu()), self.cam)\n",
        "            if postprocessing is not None:\n",
        "                input_image = postprocessing(input_image.squeeze().cpu())\n",
        "            self.cam = self.cam.detach().cpu()\n",
        "            # Normalize heatmap transforms\n",
        "            self.cam = torch.sigmoid(self.cam)\n",
        "            self.cam = (self.cam - self.cam.min())/ (self.cam.max() - self.cam)\n",
        "            # self.cam = F.interpolate(self.cam.unsqueeze(0),\n",
        "            #                           size=(1,_INPUT_SIZE, _INPUT_SIZE),\n",
        "            #                           mode='linear',\n",
        "            #                           align_corners=False)\n",
        "            image_with_heatmap = input_image.squeeze().cpu(), self.cam.detach().cpu()\n",
        "            draw_single_mask(image_with_heatmap, 3, _BATCH_SIZE, \"Gradient CAM\")\n",
        "\n",
        "\n",
        "        self.clean()\n",
        "\n",
        "        return image_with_heatmap, { 'prediction': target_class}"
      ],
      "metadata": {
        "id": "PauwKPi6IxhO"
      },
      "execution_count": null,
      "outputs": []
    },
    {
      "cell_type": "code",
      "source": [
        "input_t, y = next(iter(train_loader))\n",
        "check_point = torch.load(\"fcn_model.pt\", map_location=torch.device('cpu'))\n",
        "fcn_model.load_state_dict(check_point)"
      ],
      "metadata": {
        "id": "-riFf0Uu33w_"
      },
      "execution_count": null,
      "outputs": []
    },
    {
      "cell_type": "code",
      "source": [
        "print(input_t.shape)"
      ],
      "metadata": {
        "colab": {
          "base_uri": "https://localhost:8080/"
        },
        "id": "ARfBfG1zB4LP",
        "outputId": "523ca334-4872-462e-dd72-fb842bfc2d6d"
      },
      "execution_count": null,
      "outputs": [
        {
          "output_type": "stream",
          "name": "stdout",
          "text": [
            "torch.Size([2, 3, 512, 512])\n"
          ]
        }
      ]
    },
    {
      "cell_type": "code",
      "source": [
        "traced_fcn = tracesubmodules(fcn_model, input_t)"
      ],
      "metadata": {
        "id": "A6vSdR66Pzvg"
      },
      "execution_count": null,
      "outputs": []
    },
    {
      "cell_type": "code",
      "source": [
        "print(traced_fcn)\n",
        "print(len(traced_fcn))"
      ],
      "metadata": {
        "colab": {
          "base_uri": "https://localhost:8080/"
        },
        "id": "huXozTtq9jge",
        "outputId": "8fced31c-43e7-465e-95a9-e766443c4c7a"
      },
      "execution_count": null,
      "outputs": [
        {
          "output_type": "stream",
          "name": "stdout",
          "text": [
            "[Conv2d(3, 64, kernel_size=(7, 7), stride=(2, 2), padding=(3, 3), bias=False), BatchNorm2d(64, eps=1e-05, momentum=0.1, affine=True, track_running_stats=True), ReLU(inplace=True), MaxPool2d(kernel_size=3, stride=2, padding=1, dilation=1, ceil_mode=False), Conv2d(64, 64, kernel_size=(1, 1), stride=(1, 1), bias=False), BatchNorm2d(64, eps=1e-05, momentum=0.1, affine=True, track_running_stats=True), ReLU(inplace=True), Conv2d(64, 64, kernel_size=(3, 3), stride=(1, 1), padding=(1, 1), bias=False), BatchNorm2d(64, eps=1e-05, momentum=0.1, affine=True, track_running_stats=True), ReLU(inplace=True), Conv2d(64, 256, kernel_size=(1, 1), stride=(1, 1), bias=False), BatchNorm2d(256, eps=1e-05, momentum=0.1, affine=True, track_running_stats=True), Conv2d(64, 256, kernel_size=(1, 1), stride=(1, 1), bias=False), BatchNorm2d(256, eps=1e-05, momentum=0.1, affine=True, track_running_stats=True), ReLU(inplace=True), Conv2d(256, 64, kernel_size=(1, 1), stride=(1, 1), bias=False), BatchNorm2d(64, eps=1e-05, momentum=0.1, affine=True, track_running_stats=True), ReLU(inplace=True), Conv2d(64, 64, kernel_size=(3, 3), stride=(1, 1), padding=(1, 1), bias=False), BatchNorm2d(64, eps=1e-05, momentum=0.1, affine=True, track_running_stats=True), ReLU(inplace=True), Conv2d(64, 256, kernel_size=(1, 1), stride=(1, 1), bias=False), BatchNorm2d(256, eps=1e-05, momentum=0.1, affine=True, track_running_stats=True), ReLU(inplace=True), Conv2d(256, 64, kernel_size=(1, 1), stride=(1, 1), bias=False), BatchNorm2d(64, eps=1e-05, momentum=0.1, affine=True, track_running_stats=True), ReLU(inplace=True), Conv2d(64, 64, kernel_size=(3, 3), stride=(1, 1), padding=(1, 1), bias=False), BatchNorm2d(64, eps=1e-05, momentum=0.1, affine=True, track_running_stats=True), ReLU(inplace=True), Conv2d(64, 256, kernel_size=(1, 1), stride=(1, 1), bias=False), BatchNorm2d(256, eps=1e-05, momentum=0.1, affine=True, track_running_stats=True), ReLU(inplace=True), Conv2d(256, 128, kernel_size=(1, 1), stride=(1, 1), bias=False), BatchNorm2d(128, eps=1e-05, momentum=0.1, affine=True, track_running_stats=True), ReLU(inplace=True), Conv2d(128, 128, kernel_size=(3, 3), stride=(2, 2), padding=(1, 1), bias=False), BatchNorm2d(128, eps=1e-05, momentum=0.1, affine=True, track_running_stats=True), ReLU(inplace=True), Conv2d(128, 512, kernel_size=(1, 1), stride=(1, 1), bias=False), BatchNorm2d(512, eps=1e-05, momentum=0.1, affine=True, track_running_stats=True), Conv2d(256, 512, kernel_size=(1, 1), stride=(2, 2), bias=False), BatchNorm2d(512, eps=1e-05, momentum=0.1, affine=True, track_running_stats=True), ReLU(inplace=True), Conv2d(512, 128, kernel_size=(1, 1), stride=(1, 1), bias=False), BatchNorm2d(128, eps=1e-05, momentum=0.1, affine=True, track_running_stats=True), ReLU(inplace=True), Conv2d(128, 128, kernel_size=(3, 3), stride=(1, 1), padding=(1, 1), bias=False), BatchNorm2d(128, eps=1e-05, momentum=0.1, affine=True, track_running_stats=True), ReLU(inplace=True), Conv2d(128, 512, kernel_size=(1, 1), stride=(1, 1), bias=False), BatchNorm2d(512, eps=1e-05, momentum=0.1, affine=True, track_running_stats=True), ReLU(inplace=True), Conv2d(512, 128, kernel_size=(1, 1), stride=(1, 1), bias=False), BatchNorm2d(128, eps=1e-05, momentum=0.1, affine=True, track_running_stats=True), ReLU(inplace=True), Conv2d(128, 128, kernel_size=(3, 3), stride=(1, 1), padding=(1, 1), bias=False), BatchNorm2d(128, eps=1e-05, momentum=0.1, affine=True, track_running_stats=True), ReLU(inplace=True), Conv2d(128, 512, kernel_size=(1, 1), stride=(1, 1), bias=False), BatchNorm2d(512, eps=1e-05, momentum=0.1, affine=True, track_running_stats=True), ReLU(inplace=True), Conv2d(512, 128, kernel_size=(1, 1), stride=(1, 1), bias=False), BatchNorm2d(128, eps=1e-05, momentum=0.1, affine=True, track_running_stats=True), ReLU(inplace=True), Conv2d(128, 128, kernel_size=(3, 3), stride=(1, 1), padding=(1, 1), bias=False), BatchNorm2d(128, eps=1e-05, momentum=0.1, affine=True, track_running_stats=True), ReLU(inplace=True), Conv2d(128, 512, kernel_size=(1, 1), stride=(1, 1), bias=False), BatchNorm2d(512, eps=1e-05, momentum=0.1, affine=True, track_running_stats=True), ReLU(inplace=True), Conv2d(512, 256, kernel_size=(1, 1), stride=(1, 1), bias=False), BatchNorm2d(256, eps=1e-05, momentum=0.1, affine=True, track_running_stats=True), ReLU(inplace=True), Conv2d(256, 256, kernel_size=(3, 3), stride=(1, 1), padding=(1, 1), bias=False), BatchNorm2d(256, eps=1e-05, momentum=0.1, affine=True, track_running_stats=True), ReLU(inplace=True), Conv2d(256, 1024, kernel_size=(1, 1), stride=(1, 1), bias=False), BatchNorm2d(1024, eps=1e-05, momentum=0.1, affine=True, track_running_stats=True), Conv2d(512, 1024, kernel_size=(1, 1), stride=(1, 1), bias=False), BatchNorm2d(1024, eps=1e-05, momentum=0.1, affine=True, track_running_stats=True), ReLU(inplace=True), Conv2d(1024, 256, kernel_size=(1, 1), stride=(1, 1), bias=False), BatchNorm2d(256, eps=1e-05, momentum=0.1, affine=True, track_running_stats=True), ReLU(inplace=True), Conv2d(256, 256, kernel_size=(3, 3), stride=(1, 1), padding=(2, 2), dilation=(2, 2), bias=False), BatchNorm2d(256, eps=1e-05, momentum=0.1, affine=True, track_running_stats=True), ReLU(inplace=True), Conv2d(256, 1024, kernel_size=(1, 1), stride=(1, 1), bias=False), BatchNorm2d(1024, eps=1e-05, momentum=0.1, affine=True, track_running_stats=True), ReLU(inplace=True), Conv2d(1024, 256, kernel_size=(1, 1), stride=(1, 1), bias=False), BatchNorm2d(256, eps=1e-05, momentum=0.1, affine=True, track_running_stats=True), ReLU(inplace=True), Conv2d(256, 256, kernel_size=(3, 3), stride=(1, 1), padding=(2, 2), dilation=(2, 2), bias=False), BatchNorm2d(256, eps=1e-05, momentum=0.1, affine=True, track_running_stats=True), ReLU(inplace=True), Conv2d(256, 1024, kernel_size=(1, 1), stride=(1, 1), bias=False), BatchNorm2d(1024, eps=1e-05, momentum=0.1, affine=True, track_running_stats=True), ReLU(inplace=True), Conv2d(1024, 256, kernel_size=(1, 1), stride=(1, 1), bias=False), BatchNorm2d(256, eps=1e-05, momentum=0.1, affine=True, track_running_stats=True), ReLU(inplace=True), Conv2d(256, 256, kernel_size=(3, 3), stride=(1, 1), padding=(2, 2), dilation=(2, 2), bias=False), BatchNorm2d(256, eps=1e-05, momentum=0.1, affine=True, track_running_stats=True), ReLU(inplace=True), Conv2d(256, 1024, kernel_size=(1, 1), stride=(1, 1), bias=False), BatchNorm2d(1024, eps=1e-05, momentum=0.1, affine=True, track_running_stats=True), ReLU(inplace=True), Conv2d(1024, 256, kernel_size=(1, 1), stride=(1, 1), bias=False), BatchNorm2d(256, eps=1e-05, momentum=0.1, affine=True, track_running_stats=True), ReLU(inplace=True), Conv2d(256, 256, kernel_size=(3, 3), stride=(1, 1), padding=(2, 2), dilation=(2, 2), bias=False), BatchNorm2d(256, eps=1e-05, momentum=0.1, affine=True, track_running_stats=True), ReLU(inplace=True), Conv2d(256, 1024, kernel_size=(1, 1), stride=(1, 1), bias=False), BatchNorm2d(1024, eps=1e-05, momentum=0.1, affine=True, track_running_stats=True), ReLU(inplace=True), Conv2d(1024, 256, kernel_size=(1, 1), stride=(1, 1), bias=False), BatchNorm2d(256, eps=1e-05, momentum=0.1, affine=True, track_running_stats=True), ReLU(inplace=True), Conv2d(256, 256, kernel_size=(3, 3), stride=(1, 1), padding=(2, 2), dilation=(2, 2), bias=False), BatchNorm2d(256, eps=1e-05, momentum=0.1, affine=True, track_running_stats=True), ReLU(inplace=True), Conv2d(256, 1024, kernel_size=(1, 1), stride=(1, 1), bias=False), BatchNorm2d(1024, eps=1e-05, momentum=0.1, affine=True, track_running_stats=True), ReLU(inplace=True), Conv2d(1024, 256, kernel_size=(1, 1), stride=(1, 1), bias=False), BatchNorm2d(256, eps=1e-05, momentum=0.1, affine=True, track_running_stats=True), ReLU(inplace=True), Conv2d(256, 256, kernel_size=(3, 3), stride=(1, 1), padding=(2, 2), dilation=(2, 2), bias=False), BatchNorm2d(256, eps=1e-05, momentum=0.1, affine=True, track_running_stats=True), ReLU(inplace=True), Conv2d(256, 1024, kernel_size=(1, 1), stride=(1, 1), bias=False), BatchNorm2d(1024, eps=1e-05, momentum=0.1, affine=True, track_running_stats=True), ReLU(inplace=True), Conv2d(1024, 256, kernel_size=(1, 1), stride=(1, 1), bias=False), BatchNorm2d(256, eps=1e-05, momentum=0.1, affine=True, track_running_stats=True), ReLU(inplace=True), Conv2d(256, 256, kernel_size=(3, 3), stride=(1, 1), padding=(2, 2), dilation=(2, 2), bias=False), BatchNorm2d(256, eps=1e-05, momentum=0.1, affine=True, track_running_stats=True), ReLU(inplace=True), Conv2d(256, 1024, kernel_size=(1, 1), stride=(1, 1), bias=False), BatchNorm2d(1024, eps=1e-05, momentum=0.1, affine=True, track_running_stats=True), ReLU(inplace=True), Conv2d(1024, 256, kernel_size=(1, 1), stride=(1, 1), bias=False), BatchNorm2d(256, eps=1e-05, momentum=0.1, affine=True, track_running_stats=True), ReLU(inplace=True), Conv2d(256, 256, kernel_size=(3, 3), stride=(1, 1), padding=(2, 2), dilation=(2, 2), bias=False), BatchNorm2d(256, eps=1e-05, momentum=0.1, affine=True, track_running_stats=True), ReLU(inplace=True), Conv2d(256, 1024, kernel_size=(1, 1), stride=(1, 1), bias=False), BatchNorm2d(1024, eps=1e-05, momentum=0.1, affine=True, track_running_stats=True), ReLU(inplace=True), Conv2d(1024, 256, kernel_size=(1, 1), stride=(1, 1), bias=False), BatchNorm2d(256, eps=1e-05, momentum=0.1, affine=True, track_running_stats=True), ReLU(inplace=True), Conv2d(256, 256, kernel_size=(3, 3), stride=(1, 1), padding=(2, 2), dilation=(2, 2), bias=False), BatchNorm2d(256, eps=1e-05, momentum=0.1, affine=True, track_running_stats=True), ReLU(inplace=True), Conv2d(256, 1024, kernel_size=(1, 1), stride=(1, 1), bias=False), BatchNorm2d(1024, eps=1e-05, momentum=0.1, affine=True, track_running_stats=True), ReLU(inplace=True), Conv2d(1024, 256, kernel_size=(1, 1), stride=(1, 1), bias=False), BatchNorm2d(256, eps=1e-05, momentum=0.1, affine=True, track_running_stats=True), ReLU(inplace=True), Conv2d(256, 256, kernel_size=(3, 3), stride=(1, 1), padding=(2, 2), dilation=(2, 2), bias=False), BatchNorm2d(256, eps=1e-05, momentum=0.1, affine=True, track_running_stats=True), ReLU(inplace=True), Conv2d(256, 1024, kernel_size=(1, 1), stride=(1, 1), bias=False), BatchNorm2d(1024, eps=1e-05, momentum=0.1, affine=True, track_running_stats=True), ReLU(inplace=True), Conv2d(1024, 256, kernel_size=(1, 1), stride=(1, 1), bias=False), BatchNorm2d(256, eps=1e-05, momentum=0.1, affine=True, track_running_stats=True), ReLU(inplace=True), Conv2d(256, 256, kernel_size=(3, 3), stride=(1, 1), padding=(2, 2), dilation=(2, 2), bias=False), BatchNorm2d(256, eps=1e-05, momentum=0.1, affine=True, track_running_stats=True), ReLU(inplace=True), Conv2d(256, 1024, kernel_size=(1, 1), stride=(1, 1), bias=False), BatchNorm2d(1024, eps=1e-05, momentum=0.1, affine=True, track_running_stats=True), ReLU(inplace=True), Conv2d(1024, 256, kernel_size=(1, 1), stride=(1, 1), bias=False), BatchNorm2d(256, eps=1e-05, momentum=0.1, affine=True, track_running_stats=True), ReLU(inplace=True), Conv2d(256, 256, kernel_size=(3, 3), stride=(1, 1), padding=(2, 2), dilation=(2, 2), bias=False), BatchNorm2d(256, eps=1e-05, momentum=0.1, affine=True, track_running_stats=True), ReLU(inplace=True), Conv2d(256, 1024, kernel_size=(1, 1), stride=(1, 1), bias=False), BatchNorm2d(1024, eps=1e-05, momentum=0.1, affine=True, track_running_stats=True), ReLU(inplace=True), Conv2d(1024, 256, kernel_size=(1, 1), stride=(1, 1), bias=False), BatchNorm2d(256, eps=1e-05, momentum=0.1, affine=True, track_running_stats=True), ReLU(inplace=True), Conv2d(256, 256, kernel_size=(3, 3), stride=(1, 1), padding=(2, 2), dilation=(2, 2), bias=False), BatchNorm2d(256, eps=1e-05, momentum=0.1, affine=True, track_running_stats=True), ReLU(inplace=True), Conv2d(256, 1024, kernel_size=(1, 1), stride=(1, 1), bias=False), BatchNorm2d(1024, eps=1e-05, momentum=0.1, affine=True, track_running_stats=True), ReLU(inplace=True), Conv2d(1024, 256, kernel_size=(1, 1), stride=(1, 1), bias=False), BatchNorm2d(256, eps=1e-05, momentum=0.1, affine=True, track_running_stats=True), ReLU(inplace=True), Conv2d(256, 256, kernel_size=(3, 3), stride=(1, 1), padding=(2, 2), dilation=(2, 2), bias=False), BatchNorm2d(256, eps=1e-05, momentum=0.1, affine=True, track_running_stats=True), ReLU(inplace=True), Conv2d(256, 1024, kernel_size=(1, 1), stride=(1, 1), bias=False), BatchNorm2d(1024, eps=1e-05, momentum=0.1, affine=True, track_running_stats=True), ReLU(inplace=True), Conv2d(1024, 256, kernel_size=(1, 1), stride=(1, 1), bias=False), BatchNorm2d(256, eps=1e-05, momentum=0.1, affine=True, track_running_stats=True), ReLU(inplace=True), Conv2d(256, 256, kernel_size=(3, 3), stride=(1, 1), padding=(2, 2), dilation=(2, 2), bias=False), BatchNorm2d(256, eps=1e-05, momentum=0.1, affine=True, track_running_stats=True), ReLU(inplace=True), Conv2d(256, 1024, kernel_size=(1, 1), stride=(1, 1), bias=False), BatchNorm2d(1024, eps=1e-05, momentum=0.1, affine=True, track_running_stats=True), ReLU(inplace=True), Conv2d(1024, 256, kernel_size=(1, 1), stride=(1, 1), bias=False), BatchNorm2d(256, eps=1e-05, momentum=0.1, affine=True, track_running_stats=True), ReLU(inplace=True), Conv2d(256, 256, kernel_size=(3, 3), stride=(1, 1), padding=(2, 2), dilation=(2, 2), bias=False), BatchNorm2d(256, eps=1e-05, momentum=0.1, affine=True, track_running_stats=True), ReLU(inplace=True), Conv2d(256, 1024, kernel_size=(1, 1), stride=(1, 1), bias=False), BatchNorm2d(1024, eps=1e-05, momentum=0.1, affine=True, track_running_stats=True), ReLU(inplace=True), Conv2d(1024, 256, kernel_size=(1, 1), stride=(1, 1), bias=False), BatchNorm2d(256, eps=1e-05, momentum=0.1, affine=True, track_running_stats=True), ReLU(inplace=True), Conv2d(256, 256, kernel_size=(3, 3), stride=(1, 1), padding=(2, 2), dilation=(2, 2), bias=False), BatchNorm2d(256, eps=1e-05, momentum=0.1, affine=True, track_running_stats=True), ReLU(inplace=True), Conv2d(256, 1024, kernel_size=(1, 1), stride=(1, 1), bias=False), BatchNorm2d(1024, eps=1e-05, momentum=0.1, affine=True, track_running_stats=True), ReLU(inplace=True), Conv2d(1024, 256, kernel_size=(1, 1), stride=(1, 1), bias=False), BatchNorm2d(256, eps=1e-05, momentum=0.1, affine=True, track_running_stats=True), ReLU(inplace=True), Conv2d(256, 256, kernel_size=(3, 3), stride=(1, 1), padding=(2, 2), dilation=(2, 2), bias=False), BatchNorm2d(256, eps=1e-05, momentum=0.1, affine=True, track_running_stats=True), ReLU(inplace=True), Conv2d(256, 1024, kernel_size=(1, 1), stride=(1, 1), bias=False), BatchNorm2d(1024, eps=1e-05, momentum=0.1, affine=True, track_running_stats=True), ReLU(inplace=True), Conv2d(1024, 256, kernel_size=(1, 1), stride=(1, 1), bias=False), BatchNorm2d(256, eps=1e-05, momentum=0.1, affine=True, track_running_stats=True), ReLU(inplace=True), Conv2d(256, 256, kernel_size=(3, 3), stride=(1, 1), padding=(2, 2), dilation=(2, 2), bias=False), BatchNorm2d(256, eps=1e-05, momentum=0.1, affine=True, track_running_stats=True), ReLU(inplace=True), Conv2d(256, 1024, kernel_size=(1, 1), stride=(1, 1), bias=False), BatchNorm2d(1024, eps=1e-05, momentum=0.1, affine=True, track_running_stats=True), ReLU(inplace=True), Conv2d(1024, 256, kernel_size=(1, 1), stride=(1, 1), bias=False), BatchNorm2d(256, eps=1e-05, momentum=0.1, affine=True, track_running_stats=True), ReLU(inplace=True), Conv2d(256, 256, kernel_size=(3, 3), stride=(1, 1), padding=(2, 2), dilation=(2, 2), bias=False), BatchNorm2d(256, eps=1e-05, momentum=0.1, affine=True, track_running_stats=True), ReLU(inplace=True), Conv2d(256, 1024, kernel_size=(1, 1), stride=(1, 1), bias=False), BatchNorm2d(1024, eps=1e-05, momentum=0.1, affine=True, track_running_stats=True), ReLU(inplace=True), Conv2d(1024, 256, kernel_size=(1, 1), stride=(1, 1), bias=False), BatchNorm2d(256, eps=1e-05, momentum=0.1, affine=True, track_running_stats=True), ReLU(inplace=True), Conv2d(256, 256, kernel_size=(3, 3), stride=(1, 1), padding=(2, 2), dilation=(2, 2), bias=False), BatchNorm2d(256, eps=1e-05, momentum=0.1, affine=True, track_running_stats=True), ReLU(inplace=True), Conv2d(256, 1024, kernel_size=(1, 1), stride=(1, 1), bias=False), BatchNorm2d(1024, eps=1e-05, momentum=0.1, affine=True, track_running_stats=True), ReLU(inplace=True), Conv2d(1024, 256, kernel_size=(1, 1), stride=(1, 1), bias=False), BatchNorm2d(256, eps=1e-05, momentum=0.1, affine=True, track_running_stats=True), ReLU(inplace=True), Conv2d(256, 256, kernel_size=(3, 3), stride=(1, 1), padding=(2, 2), dilation=(2, 2), bias=False), BatchNorm2d(256, eps=1e-05, momentum=0.1, affine=True, track_running_stats=True), ReLU(inplace=True), Conv2d(256, 1024, kernel_size=(1, 1), stride=(1, 1), bias=False), BatchNorm2d(1024, eps=1e-05, momentum=0.1, affine=True, track_running_stats=True), ReLU(inplace=True), Conv2d(1024, 512, kernel_size=(1, 1), stride=(1, 1), bias=False), BatchNorm2d(512, eps=1e-05, momentum=0.1, affine=True, track_running_stats=True), ReLU(inplace=True), Conv2d(512, 512, kernel_size=(3, 3), stride=(1, 1), padding=(2, 2), dilation=(2, 2), bias=False), BatchNorm2d(512, eps=1e-05, momentum=0.1, affine=True, track_running_stats=True), ReLU(inplace=True), Conv2d(512, 2048, kernel_size=(1, 1), stride=(1, 1), bias=False), BatchNorm2d(2048, eps=1e-05, momentum=0.1, affine=True, track_running_stats=True), Conv2d(1024, 2048, kernel_size=(1, 1), stride=(1, 1), bias=False), BatchNorm2d(2048, eps=1e-05, momentum=0.1, affine=True, track_running_stats=True), ReLU(inplace=True), Conv2d(2048, 512, kernel_size=(1, 1), stride=(1, 1), bias=False), BatchNorm2d(512, eps=1e-05, momentum=0.1, affine=True, track_running_stats=True), ReLU(inplace=True), Conv2d(512, 512, kernel_size=(3, 3), stride=(1, 1), padding=(4, 4), dilation=(4, 4), bias=False), BatchNorm2d(512, eps=1e-05, momentum=0.1, affine=True, track_running_stats=True), ReLU(inplace=True), Conv2d(512, 2048, kernel_size=(1, 1), stride=(1, 1), bias=False), BatchNorm2d(2048, eps=1e-05, momentum=0.1, affine=True, track_running_stats=True), ReLU(inplace=True), Conv2d(2048, 512, kernel_size=(1, 1), stride=(1, 1), bias=False), BatchNorm2d(512, eps=1e-05, momentum=0.1, affine=True, track_running_stats=True), ReLU(inplace=True), Conv2d(512, 512, kernel_size=(3, 3), stride=(1, 1), padding=(4, 4), dilation=(4, 4), bias=False), BatchNorm2d(512, eps=1e-05, momentum=0.1, affine=True, track_running_stats=True), ReLU(inplace=True), Conv2d(512, 2048, kernel_size=(1, 1), stride=(1, 1), bias=False), BatchNorm2d(2048, eps=1e-05, momentum=0.1, affine=True, track_running_stats=True), ReLU(inplace=True), Conv2d(2048, 512, kernel_size=(3, 3), stride=(1, 1), padding=(1, 1)), BatchNorm2d(512, eps=1e-05, momentum=0.1, affine=True, track_running_stats=True), ReLU(), Dropout(p=0.1, inplace=False), Conv2d(512, 1, kernel_size=(1, 1), stride=(1, 1)), Upsample(scale_factor=8.0, mode='bilinear'), Conv2d(1024, 256, kernel_size=(3, 3), stride=(1, 1), padding=(1, 1)), BatchNorm2d(256, eps=1e-05, momentum=0.1, affine=True, track_running_stats=True), ReLU(), Dropout(p=0.1, inplace=False), Conv2d(256, 1, kernel_size=(1, 1), stride=(1, 1)), Upsample(scale_factor=8.0, mode='bilinear')]\n",
            "321\n"
          ]
        }
      ]
    },
    {
      "cell_type": "code",
      "source": [
        "output_t = fcn_model(input_t)"
      ],
      "metadata": {
        "id": "iPDJnXe-SXal"
      },
      "execution_count": null,
      "outputs": []
    },
    {
      "cell_type": "code",
      "source": [
        "fcn_model.eval()\n",
        "layer = traced_fcn[-4] # Last ReLU of the conv layers\n"
      ],
      "metadata": {
        "id": "FDVpk0esBFE6"
      },
      "execution_count": null,
      "outputs": []
    },
    {
      "cell_type": "code",
      "source": [
        "fcn_cam = GradCam(fcn_model, device)"
      ],
      "metadata": {
        "id": "Md7zyu_nPg3O"
      },
      "execution_count": null,
      "outputs": []
    },
    {
      "cell_type": "code",
      "source": [
        "layer_viz = fcn_cam(input_t, y, layer, postprocessing=None)"
      ],
      "metadata": {
        "id": "tcWDrRRaPn6H"
      },
      "execution_count": null,
      "outputs": []
    }
  ]
}