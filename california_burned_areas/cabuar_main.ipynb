{
 "cells": [
  {
   "cell_type": "code",
   "execution_count": null,
   "metadata": {
    "colab": {
     "base_uri": "https://localhost:8080/"
    },
    "id": "xEUMeBYoDxLY",
    "outputId": "31949080-e20d-49eb-f210-7556dd14b2af"
   },
   "outputs": [
    {
     "name": "stdout",
     "output_type": "stream",
     "text": [
      "Requirement already satisfied: torchvision in /home/w1nlin4n/miniconda3/envs/pytorch-learning/lib/python3.11/site-packages (0.19.0)\n",
      "Collecting torchvision\n",
      "  Downloading torchvision-0.20.1-cp311-cp311-manylinux1_x86_64.whl.metadata (6.1 kB)\n",
      "Requirement already satisfied: numpy in /home/w1nlin4n/miniconda3/envs/pytorch-learning/lib/python3.11/site-packages (from torchvision) (1.26.4)\n",
      "Collecting torch==2.5.1 (from torchvision)\n",
      "  Downloading torch-2.5.1-cp311-cp311-manylinux1_x86_64.whl.metadata (28 kB)\n",
      "Requirement already satisfied: pillow!=8.3.*,>=5.3.0 in /home/w1nlin4n/miniconda3/envs/pytorch-learning/lib/python3.11/site-packages (from torchvision) (10.4.0)\n",
      "Requirement already satisfied: filelock in /home/w1nlin4n/miniconda3/envs/pytorch-learning/lib/python3.11/site-packages (from torch==2.5.1->torchvision) (3.13.1)\n",
      "Requirement already satisfied: typing-extensions>=4.8.0 in /home/w1nlin4n/miniconda3/envs/pytorch-learning/lib/python3.11/site-packages (from torch==2.5.1->torchvision) (4.11.0)\n",
      "Requirement already satisfied: networkx in /home/w1nlin4n/miniconda3/envs/pytorch-learning/lib/python3.11/site-packages (from torch==2.5.1->torchvision) (3.3)\n",
      "Requirement already satisfied: jinja2 in /home/w1nlin4n/miniconda3/envs/pytorch-learning/lib/python3.11/site-packages (from torch==2.5.1->torchvision) (3.1.4)\n",
      "Requirement already satisfied: fsspec in /home/w1nlin4n/miniconda3/envs/pytorch-learning/lib/python3.11/site-packages (from torch==2.5.1->torchvision) (2024.3.1)\n",
      "Collecting nvidia-cuda-nvrtc-cu12==12.4.127 (from torch==2.5.1->torchvision)\n",
      "  Downloading nvidia_cuda_nvrtc_cu12-12.4.127-py3-none-manylinux2014_x86_64.whl.metadata (1.5 kB)\n",
      "Collecting nvidia-cuda-runtime-cu12==12.4.127 (from torch==2.5.1->torchvision)\n",
      "  Downloading nvidia_cuda_runtime_cu12-12.4.127-py3-none-manylinux2014_x86_64.whl.metadata (1.5 kB)\n",
      "Collecting nvidia-cuda-cupti-cu12==12.4.127 (from torch==2.5.1->torchvision)\n",
      "  Downloading nvidia_cuda_cupti_cu12-12.4.127-py3-none-manylinux2014_x86_64.whl.metadata (1.6 kB)\n",
      "Collecting nvidia-cudnn-cu12==9.1.0.70 (from torch==2.5.1->torchvision)\n",
      "  Downloading nvidia_cudnn_cu12-9.1.0.70-py3-none-manylinux2014_x86_64.whl.metadata (1.6 kB)\n",
      "Collecting nvidia-cublas-cu12==12.4.5.8 (from torch==2.5.1->torchvision)\n",
      "  Downloading nvidia_cublas_cu12-12.4.5.8-py3-none-manylinux2014_x86_64.whl.metadata (1.5 kB)\n",
      "Collecting nvidia-cufft-cu12==11.2.1.3 (from torch==2.5.1->torchvision)\n",
      "  Downloading nvidia_cufft_cu12-11.2.1.3-py3-none-manylinux2014_x86_64.whl.metadata (1.5 kB)\n",
      "Collecting nvidia-curand-cu12==10.3.5.147 (from torch==2.5.1->torchvision)\n",
      "  Downloading nvidia_curand_cu12-10.3.5.147-py3-none-manylinux2014_x86_64.whl.metadata (1.5 kB)\n",
      "Collecting nvidia-cusolver-cu12==11.6.1.9 (from torch==2.5.1->torchvision)\n",
      "  Downloading nvidia_cusolver_cu12-11.6.1.9-py3-none-manylinux2014_x86_64.whl.metadata (1.6 kB)\n",
      "Collecting nvidia-cusparse-cu12==12.3.1.170 (from torch==2.5.1->torchvision)\n",
      "  Downloading nvidia_cusparse_cu12-12.3.1.170-py3-none-manylinux2014_x86_64.whl.metadata (1.6 kB)\n",
      "Collecting nvidia-nccl-cu12==2.21.5 (from torch==2.5.1->torchvision)\n",
      "  Downloading nvidia_nccl_cu12-2.21.5-py3-none-manylinux2014_x86_64.whl.metadata (1.8 kB)\n",
      "Collecting nvidia-nvtx-cu12==12.4.127 (from torch==2.5.1->torchvision)\n",
      "  Downloading nvidia_nvtx_cu12-12.4.127-py3-none-manylinux2014_x86_64.whl.metadata (1.7 kB)\n",
      "Collecting nvidia-nvjitlink-cu12==12.4.127 (from torch==2.5.1->torchvision)\n",
      "  Downloading nvidia_nvjitlink_cu12-12.4.127-py3-none-manylinux2014_x86_64.whl.metadata (1.5 kB)\n",
      "Collecting triton==3.1.0 (from torch==2.5.1->torchvision)\n",
      "  Downloading triton-3.1.0-cp311-cp311-manylinux_2_17_x86_64.manylinux2014_x86_64.whl.metadata (1.3 kB)\n",
      "Collecting sympy==1.13.1 (from torch==2.5.1->torchvision)\n",
      "  Downloading sympy-1.13.1-py3-none-any.whl.metadata (12 kB)\n",
      "Requirement already satisfied: mpmath<1.4,>=1.1.0 in /home/w1nlin4n/miniconda3/envs/pytorch-learning/lib/python3.11/site-packages (from sympy==1.13.1->torch==2.5.1->torchvision) (1.3.0)\n",
      "Requirement already satisfied: MarkupSafe>=2.0 in /home/w1nlin4n/miniconda3/envs/pytorch-learning/lib/python3.11/site-packages (from jinja2->torch==2.5.1->torchvision) (2.1.3)\n",
      "Downloading torchvision-0.20.1-cp311-cp311-manylinux1_x86_64.whl (7.2 MB)\n",
      "\u001b[2K   \u001b[90m━━━━━━━━━━━━━━━━━━━━━━━━━━━━━━━━━━━━━━━━\u001b[0m \u001b[32m7.2/7.2 MB\u001b[0m \u001b[31m28.4 MB/s\u001b[0m eta \u001b[36m0:00:00\u001b[0ma \u001b[36m0:00:01\u001b[0m\n",
      "\u001b[?25hDownloading torch-2.5.1-cp311-cp311-manylinux1_x86_64.whl (906.5 MB)\n",
      "\u001b[2K   \u001b[90m━━━━━━━━━━━━━━━━━━━━━━━━━━━━━━━━━━━━━━━━\u001b[0m \u001b[32m906.5/906.5 MB\u001b[0m \u001b[31m11.5 MB/s\u001b[0m eta \u001b[36m0:00:00\u001b[0m00:01\u001b[0m00:01\u001b[0m\n",
      "\u001b[?25hDownloading nvidia_cublas_cu12-12.4.5.8-py3-none-manylinux2014_x86_64.whl (363.4 MB)\n",
      "\u001b[2K   \u001b[90m━━━━━━━━━━━━━━━━━━━━━━━━━━━━━━━━━━━━━━━━\u001b[0m \u001b[32m363.4/363.4 MB\u001b[0m \u001b[31m17.0 MB/s\u001b[0m eta \u001b[36m0:00:00\u001b[0m00:01\u001b[0m00:01\u001b[0m\n",
      "\u001b[?25hDownloading nvidia_cuda_cupti_cu12-12.4.127-py3-none-manylinux2014_x86_64.whl (13.8 MB)\n",
      "\u001b[2K   \u001b[90m━━━━━━━━━━━━━━━━━━━━━━━━━━━━━━━━━━━━━━━━\u001b[0m \u001b[32m13.8/13.8 MB\u001b[0m \u001b[31m24.1 MB/s\u001b[0m eta \u001b[36m0:00:00\u001b[0m00:01\u001b[0m0:01\u001b[0m\n",
      "\u001b[?25hDownloading nvidia_cuda_nvrtc_cu12-12.4.127-py3-none-manylinux2014_x86_64.whl (24.6 MB)\n",
      "\u001b[2K   \u001b[90m━━━━━━━━━━━━━━━━━━━━━━━━━━━━━━━━━━━━━━━━\u001b[0m \u001b[32m24.6/24.6 MB\u001b[0m \u001b[31m26.4 MB/s\u001b[0m eta \u001b[36m0:00:00\u001b[0m00:01\u001b[0m00:01\u001b[0m\n",
      "\u001b[?25hDownloading nvidia_cuda_runtime_cu12-12.4.127-py3-none-manylinux2014_x86_64.whl (883 kB)\n",
      "\u001b[2K   \u001b[90m━━━━━━━━━━━━━━━━━━━━━━━━━━━━━━━━━━━━━━━━\u001b[0m \u001b[32m883.7/883.7 kB\u001b[0m \u001b[31m9.7 MB/s\u001b[0m eta \u001b[36m0:00:00\u001b[0m\n",
      "\u001b[?25hDownloading nvidia_cudnn_cu12-9.1.0.70-py3-none-manylinux2014_x86_64.whl (664.8 MB)\n",
      "\u001b[2K   \u001b[90m━━━━━━━━━━━━━━━━━━━━━━━━━━━━━━━━━━━━━━━━\u001b[0m \u001b[32m664.8/664.8 MB\u001b[0m \u001b[31m9.4 MB/s\u001b[0m eta \u001b[36m0:00:00\u001b[0m:00:01\u001b[0m00:01\u001b[0m\n",
      "\u001b[?25hDownloading nvidia_cufft_cu12-11.2.1.3-py3-none-manylinux2014_x86_64.whl (211.5 MB)\n",
      "\u001b[2K   \u001b[90m━━━━━━━━━━━━━━━━━━━━━━━━━━━━━━━━━━━━━━━━\u001b[0m \u001b[32m211.5/211.5 MB\u001b[0m \u001b[31m6.8 MB/s\u001b[0m eta \u001b[36m0:00:00\u001b[0m00:01\u001b[0m00:01\u001b[0m\n",
      "\u001b[?25hDownloading nvidia_curand_cu12-10.3.5.147-py3-none-manylinux2014_x86_64.whl (56.3 MB)\n",
      "\u001b[2K   \u001b[90m━━━━━━━━━━━━━━━━━━━━━━━━━━━━━━━━━━━━━━━━\u001b[0m \u001b[32m56.3/56.3 MB\u001b[0m \u001b[31m20.2 MB/s\u001b[0m eta \u001b[36m0:00:00\u001b[0m00:01\u001b[0m00:01\u001b[0m\n",
      "\u001b[?25hDownloading nvidia_cusolver_cu12-11.6.1.9-py3-none-manylinux2014_x86_64.whl (127.9 MB)\n",
      "\u001b[2K   \u001b[90m━━━━━━━━━━━━━━━━━━━━━━━━━━━━━━━━━━━━━━━━\u001b[0m \u001b[32m127.9/127.9 MB\u001b[0m \u001b[31m17.4 MB/s\u001b[0m eta \u001b[36m0:00:00\u001b[0m00:01\u001b[0m00:01\u001b[0m\n",
      "\u001b[?25hDownloading nvidia_cusparse_cu12-12.3.1.170-py3-none-manylinux2014_x86_64.whl (207.5 MB)\n",
      "\u001b[2K   \u001b[90m━━━━━━━━━━━━━━━━━━━━━━━━━━━━━━━━━━━━━━━━\u001b[0m \u001b[32m207.5/207.5 MB\u001b[0m \u001b[31m23.4 MB/s\u001b[0m eta \u001b[36m0:00:00\u001b[0m00:01\u001b[0m00:01\u001b[0m\n",
      "\u001b[?25hDownloading nvidia_nccl_cu12-2.21.5-py3-none-manylinux2014_x86_64.whl (188.7 MB)\n",
      "\u001b[2K   \u001b[90m━━━━━━━━━━━━━━━━━━━━━━━━━━━━━━━━━━━━━━━━\u001b[0m \u001b[32m188.7/188.7 MB\u001b[0m \u001b[31m24.2 MB/s\u001b[0m eta \u001b[36m0:00:00\u001b[0m00:01\u001b[0m00:01\u001b[0m\n",
      "\u001b[?25hDownloading nvidia_nvjitlink_cu12-12.4.127-py3-none-manylinux2014_x86_64.whl (21.1 MB)\n",
      "\u001b[2K   \u001b[90m━━━━━━━━━━━━━━━━━━━━━━━━━━━━━━━━━━━━━━━━\u001b[0m \u001b[32m21.1/21.1 MB\u001b[0m \u001b[31m22.0 MB/s\u001b[0m eta \u001b[36m0:00:00\u001b[0m00:01\u001b[0m00:01\u001b[0m\n",
      "\u001b[?25hDownloading nvidia_nvtx_cu12-12.4.127-py3-none-manylinux2014_x86_64.whl (99 kB)\n",
      "Downloading sympy-1.13.1-py3-none-any.whl (6.2 MB)\n",
      "\u001b[2K   \u001b[90m━━━━━━━━━━━━━━━━━━━━━━━━━━━━━━━━━━━━━━━━\u001b[0m \u001b[32m6.2/6.2 MB\u001b[0m \u001b[31m23.3 MB/s\u001b[0m eta \u001b[36m0:00:00\u001b[0ma \u001b[36m0:00:01\u001b[0m\n",
      "\u001b[?25hDownloading triton-3.1.0-cp311-cp311-manylinux_2_17_x86_64.manylinux2014_x86_64.whl (209.5 MB)\n",
      "\u001b[2K   \u001b[91m━━━━━━━━━━━━━━━━━━━━━━\u001b[0m\u001b[90m╺\u001b[0m\u001b[90m━━━━━━━━━━━━━━━━━\u001b[0m \u001b[32m116.4/209.5 MB\u001b[0m \u001b[31m37.5 MB/s\u001b[0m eta \u001b[36m0:00:03\u001b[0m"
     ]
    }
   ],
   "source": [
    "%pip install --upgrade torchvision;\n",
    "%pip install --upgrade datasets;\n",
    "%pip install --upgrade h5py;\n",
    "%pip install --upgrade kornia"
   ]
  },
  {
   "cell_type": "code",
   "execution_count": 1,
   "metadata": {
    "id": "UsdnMhoO_IUM"
   },
   "outputs": [
    {
     "name": "stderr",
     "output_type": "stream",
     "text": [
      "/home/w1nlin4n/miniconda3/envs/pytorch-learning/lib/python3.11/site-packages/tqdm/auto.py:21: TqdmWarning: IProgress not found. Please update jupyter and ipywidgets. See https://ipywidgets.readthedocs.io/en/stable/user_install.html\n",
      "  from .autonotebook import tqdm as notebook_tqdm\n"
     ]
    }
   ],
   "source": [
    "# Copyright 2020 The HuggingFace Datasets Authors and the current dataset script contributor.\n",
    "#\n",
    "# Licensed under the Apache License, Version 2.0 (the \"License\");\n",
    "# you may not use this file except in compliance with the License.\n",
    "# You may obtain a copy of the License at\n",
    "#\n",
    "#     http://www.apache.org/licenses/LICENSE-2.0\n",
    "#\n",
    "# Unless required by applicable law or agreed to in writing, software\n",
    "# distributed under the License is distributed on an \"AS IS\" BASIS,\n",
    "# WITHOUT WARRANTIES OR CONDITIONS OF ANY KIND, either express or implied.\n",
    "# See the License for the specific language governing permissions and\n",
    "# limitations under the License.\n",
    "\n",
    "import os\n",
    "import sys\n",
    "import json\n",
    "import csv\n",
    "import logging\n",
    "from tqdm import tqdm\n",
    "import torch\n",
    "import datasets\n",
    "from datasets.combine import *\n",
    "import PIL\n",
    "from collections import OrderedDict\n",
    "import time\n",
    "# from torchgeo.datasets import CaBuAr\n",
    "from torch.utils.data import Dataset\n",
    "from torch.utils.data import DataLoader\n",
    "from timm import utils\n",
    "from torchvision.transforms import v2 as transforms\n",
    "import torch.nn as nn\n",
    "from torchvision.transforms.v2 import functional as F\n",
    "import h5py\n",
    "import numpy as np\n",
    "import matplotlib.pyplot as plt\n",
    "from kornia import filters\n",
    "import kornia.augmentation as K\n",
    "\n",
    "\n",
    "# Find for instance the citation on arxiv or on the dataset repo/website\n",
    "_CITATION = \"\"\"\\\n",
    "@article{cabuar,\n",
    "  title={Ca{B}u{A}r: California {B}urned {A}reas dataset for delineation},\n",
    "  author={Rege Cambrin, Daniele and Colomba, Luca and Garza, Paolo},\n",
    "  journal={IEEE Geoscience and Remote Sensing Magazine},\n",
    "  doi={10.1109/MGRS.2023.3292467},\n",
    "  year={2023}\n",
    "}\n",
    "\"\"\"\n",
    "\n",
    "# You can copy an official description\n",
    "_DESCRIPTION = \"\"\"\\\n",
    "CaBuAr dataset contains images from Sentinel-2 satellites taken before and after a wildfire.\n",
    "The ground truth masks are provided by the California Department of Forestry and Fire Protection and they are mapped on the images.\n",
    "\"\"\"\n",
    "\n",
    "_HOMEPAGE = \"https://huggingface.co/datasets/DarthReca/california_burned_areas\"\n",
    "\n",
    "_LICENSE = \"OPENRAIL\"\n",
    "\n",
    "# Define the root directory for the dataset\n",
    "# Change manually\n",
    "\n",
    "\n",
    "_URLS = {'root': os.curdir,'cache_dir':\"raw\", \"data_dir\": \"data\"}\n",
    "_BATCH_SIZE = 2\n",
    "_NUM_WORKERS = os.cpu_count() // 2\n",
    "_TRAIN_SPLIT = {'d1':1,'d2':0,'d3':3, 'd4':4}\n",
    "_VALID_SPLIT = '2'\n",
    "_TEST_SPLIT = \"chabud\"\n",
    "_INPUT_SIZE = 512\n",
    "_PATCHES_SIDE = 3\n"
   ]
  },
  {
   "cell_type": "markdown",
   "metadata": {
    "id": "4GHV6Dh5qIKk"
   },
   "source": [
    "Тут можна задати спліти 0-4, що дає вчитися і перевіряти метрики на незалежних вибірках\n",
    "\n"
   ]
  },
  {
   "cell_type": "code",
   "execution_count": 2,
   "metadata": {
    "colab": {
     "base_uri": "https://localhost:8080/"
    },
    "id": "mD0Csqsujz2K",
    "outputId": "0dfe4e51-c8f9-4f8d-b41d-a1e6561d10a7"
   },
   "outputs": [
    {
     "name": "stdout",
     "output_type": "stream",
     "text": [
      "HF_DATASETS_CACHE set to: ./raw\n"
     ]
    }
   ],
   "source": [
    "# Set the Hugging Face datasets cache directory\n",
    "os.environ['HF_DATASETS_CACHE'] = os.path.join(_URLS['root'],_URLS['cache_dir'])\n",
    "sys.path.append(os.path.abspath('..'))\n",
    "\n",
    "# You can verify by printing (optional)\n",
    "print(f\"HF_DATASETS_CACHE set to: {os.getenv('HF_DATASETS_CACHE')}\")"
   ]
  },
  {
   "cell_type": "code",
   "execution_count": 3,
   "metadata": {
    "id": "R9S-LcoE_IUO"
   },
   "outputs": [],
   "source": [
    "# Define device\n",
    "device = torch.device(\"cuda\" if torch.cuda.is_available() else \"cpu\")\n",
    "\n",
    "def to_device(X, y):\n",
    "    return X.to(device), y.to(device)"
   ]
  },
  {
   "cell_type": "markdown",
   "metadata": {},
   "source": [
    "# Preprocessing dataset"
   ]
  },
  {
   "cell_type": "markdown",
   "metadata": {},
   "source": [
    "If dataset is already preprocessed - skip this section. This section loads dataset from web, does certain transformations, and then saves updated dataset to disk for later usage."
   ]
  },
  {
   "cell_type": "markdown",
   "metadata": {},
   "source": [
    "## Loading dataset from web or cache"
   ]
  },
  {
   "cell_type": "code",
   "execution_count": 4,
   "metadata": {
    "colab": {
     "base_uri": "https://localhost:8080/"
    },
    "id": "Hb1zyGSq_IUQ",
    "outputId": "e75620f2-952a-4395-eb2f-cee4914c19c2"
   },
   "outputs": [
    {
     "name": "stderr",
     "output_type": "stream",
     "text": [
      "Downloading builder script: 100%|██████████████████████████████████████████████████| 5.19k/5.19k [00:00<00:00, 12.2MB/s]\n",
      "Downloading readme: 100%|██████████████████████████████████████████████████████████| 3.68k/3.68k [00:00<00:00, 19.2MB/s]\n",
      "Downloading data: 100%|████████████████████████████████████████████████████████████| 5.88G/5.88G [04:49<00:00, 20.3MB/s]\n",
      "Downloading data: 100%|██████████████████████████████████████████████████████████████| 667M/667M [00:36<00:00, 18.3MB/s]\n",
      "Generating 0 split: 78 examples [00:02, 26.76 examples/s] \n",
      "Generating 1 split: 55 examples [00:02, 27.07 examples/s] \n",
      "Generating 2 split: 69 examples [00:04, 15.53 examples/s]\n",
      "Generating 3 split: 85 examples [00:08, 10.07 examples/s]\n",
      "Generating 4 split: 69 examples [00:10,  6.87 examples/s]\n",
      "Generating chabud split: 68 examples [00:12,  5.31 examples/s]\n"
     ]
    }
   ],
   "source": [
    "# Load the CaBuAr dataset\n",
    "# Possible splits: 0-4, or chabud\n",
    "# For docs check out\n",
    "# https://huggingface.co/datasets/DarthReca/california_burned_areas\n",
    "# https://torchgeo.readthedocs.io/en/stable/api/datasets.html#cabuar\n",
    "d1 = datasets.load_dataset('DarthReca/california_burned_areas', name='pre-post-fire', split=f\"{_TRAIN_SPLIT['d1']}\", trust_remote_code=True)\n",
    "d2 = datasets.load_dataset('DarthReca/california_burned_areas', name='pre-post-fire', split=f\"{_TRAIN_SPLIT['d2']}\", trust_remote_code=True)\n",
    "d3 = datasets.load_dataset('DarthReca/california_burned_areas', name='pre-post-fire', split=f\"{_TRAIN_SPLIT['d3']}\", trust_remote_code=True)\n",
    "d4 = datasets.load_dataset('DarthReca/california_burned_areas', name='pre-post-fire', split=f\"{_TRAIN_SPLIT['d4']}\", trust_remote_code=True)\n",
    "valid_data = datasets.load_dataset('DarthReca/california_burned_areas', name='pre-post-fire', split=f'{_VALID_SPLIT}',trust_remote_code=True).with_format(\"torch\")\n",
    "test_data = datasets.load_dataset('DarthReca/california_burned_areas', name='pre-post-fire', split=f'{_TEST_SPLIT}',trust_remote_code=True).with_format(\"torch\")\n",
    "train_data = interleave_datasets([d1, d2, d3, d4], stopping_strategy='all_exhausted').with_format(\"torch\")\n"
   ]
  },
  {
   "cell_type": "markdown",
   "metadata": {
    "id": "iiKCr53hP-qL"
   },
   "source": [
    "### На основі аналізу датасету запроповані рішення для перетворення датасету\n",
    " - Create an class ratio graphic in output mask\n",
    "\n",
    "Бінарність класів спрощує Segmentation loss в просту бінарну кроссентропію з логітами.\n",
    " Використаємо взваження класів відносно їх частоти в зображенні всередині  лосс функції за допомогою class_weights.\n",
    "Додаємо до BCE лосс-функції додатково Dice loss, що є диферренційованим F1 score\n",
    "\n",
    " - Mean brightness, distribution per-channel of images\n",
    "\n",
    "Додамо першим шаром батч нормалізацію,\n",
    "\n",
    "**Створимо синтез фіч**:\n",
    "1.  порахувавши індекс щільності рослинності (NDVI): гіперболічну дистанцію між яскравістю пікселів Червоного (B04), Інфрачервоного (B08) каналів першим каналом,\n",
    "2. А також для Довгих інфрачервоних DWDM каналів B12 і B11.\n",
    "\n",
    "3. Останнім каналом візьмемо B09, для відокремлення вологого грунту\n",
    "від спаленої землі і водних об'єктів.\n",
    "\n",
    "Присутність великого набору семплів з пустими масками (class 0) підвищує захищеність моделі\n",
    "\n",
    "Для зменшення шуму окремо згладимо вхідне зображення з Гауссовим блюром\n",
    "\n",
    " - how **correlated** are adjacent 2d tensors in pre-fire, post-fire, could dataset be ordered by **time** if needed?\n",
    "\n",
    "Так як не присутня залежність між зображеннями в батчі, регуляризація виконується для кожної пари вхідне зображення --- маска:\n",
    "\n",
    "1. До вхідного зображення додається невелика кількість шуму\n",
    "\n",
    "2. З RandomJigsaw синхронно розрізаємо зображення та маску на квадрати NxN і перемішуємо їх\n",
    "\n",
    "3. Під час тренування для одночасно маски і зображення робимо афінне перетворення, відображаємо вертикально та горизонтально\n",
    "\n",
    "Ціллю є підвищення інваріантності по переміщенню і обертанню, подальше використання dropout для зменшення глобальних глобальних активацій нейронів, і більшого фокусу моделі на локальних фічах, інваріантно від топографії ландшафту і присутніх на ньому географічних ознак."
   ]
  },
  {
   "cell_type": "markdown",
   "metadata": {},
   "source": [
    "## Adding new feature channels by combining some of already existing ones"
   ]
  },
  {
   "cell_type": "code",
   "execution_count": 5,
   "metadata": {},
   "outputs": [],
   "source": [
    "def hyperbolic_diff(img_x, img_y, scale = 0.5, bias = 0):\n",
    "    if bias == -1e-6:\n",
    "        bias = 0\n",
    "    return scale * (img_x - img_y) / (img_x + img_y + bias + 1e-6)"
   ]
  },
  {
   "cell_type": "code",
   "execution_count": 6,
   "metadata": {},
   "outputs": [],
   "source": [
    "def calculate_ndvi(img):\n",
    "        nir = img[7, :, :]\n",
    "        red = img[3, :, :]\n",
    "        ndvi = hyperbolic_diff(nir, red, scale=1., bias=0.16)\n",
    "        return ndvi\n",
    "\n",
    "def fire_boundary(img):\n",
    "    band_nri = img[7, :, :]\n",
    "    band_swir = img[11, :, :]\n",
    "    boundary = hyperbolic_diff(band_nri, band_swir, scale=1.) # Shape: [1, H, W]\n",
    "    return boundary"
   ]
  },
  {
   "cell_type": "code",
   "execution_count": 7,
   "metadata": {},
   "outputs": [],
   "source": [
    "def map_satellite_image(img):\n",
    "    ndvi = calculate_ndvi(img).unsqueeze(0)\n",
    "    fire = fire_boundary(img).unsqueeze(0)\n",
    "    return torch.cat([img, ndvi, fire], axis=0)"
   ]
  },
  {
   "cell_type": "code",
   "execution_count": 8,
   "metadata": {},
   "outputs": [],
   "source": [
    "def map_sample(sample):\n",
    "    sample[\"pre_fire\"] = map_satellite_image(sample[\"pre_fire\"].to(torch.float).permute(2, 0, 1))\n",
    "    sample[\"post_fire\"] = map_satellite_image(sample[\"post_fire\"].to(torch.float).permute(2, 0, 1))\n",
    "    sample[\"mask\"] = sample[\"mask\"].to(torch.float).permute(2, 0, 1)\n",
    "    return sample"
   ]
  },
  {
   "cell_type": "code",
   "execution_count": 9,
   "metadata": {},
   "outputs": [
    {
     "name": "stderr",
     "output_type": "stream",
     "text": [
      "Map (num_proc=8): 100%|████████████████████████████████████████████████████████| 340/340 [02:04<00:00,  2.74 examples/s]\n",
      "Map (num_proc=8): 100%|██████████████████████████████████████████████████████████| 69/69 [00:21<00:00,  3.24 examples/s]\n",
      "Map (num_proc=8): 100%|██████████████████████████████████████████████████████████| 68/68 [00:22<00:00,  3.09 examples/s]\n"
     ]
    }
   ],
   "source": [
    "train_data = train_data.map(map_sample, writer_batch_size=128)\n",
    "valid_data = valid_data.map(map_sample, writer_batch_size=128)\n",
    "test_data = test_data.map(map_sample, writer_batch_size=128)"
   ]
  },
  {
   "cell_type": "markdown",
   "metadata": {},
   "source": [
    "## Normalizing all channels using statistics from train data"
   ]
  },
  {
   "cell_type": "code",
   "execution_count": 10,
   "metadata": {},
   "outputs": [],
   "source": [
    "features_size = len(train_data[0][\"pre_fire\"]) + len(train_data[0][\"post_fire\"])"
   ]
  },
  {
   "cell_type": "code",
   "execution_count": 11,
   "metadata": {},
   "outputs": [],
   "source": [
    "features_mean = torch.zeros(features_size)\n",
    "features_squared_mean = torch.zeros(features_size)\n",
    "\n",
    "for item in train_data:\n",
    "    features = torch.cat([item[\"pre_fire\"], item[\"post_fire\"]], axis=0)\n",
    "    features_mean += torch.mean(features, [1, 2])\n",
    "    features_squared_mean += torch.mean(features ** 2, [1, 2])\n",
    "\n",
    "features_mean /= len(train_data)\n",
    "features_squared_mean /= len(train_data)\n",
    "\n",
    "features_std = torch.sqrt(features_squared_mean - features_mean ** 2)"
   ]
  },
  {
   "cell_type": "code",
   "execution_count": 14,
   "metadata": {},
   "outputs": [],
   "source": [
    "def normalize_sample(sample):\n",
    "    m = len(features_mean) // 2\n",
    "    sample[\"pre_fire\"] = F.normalize(sample[\"pre_fire\"], features_mean[:m], features_std[:m])\n",
    "    sample[\"post_fire\"] = F.normalize(sample[\"post_fire\"], features_mean[m:], features_std[m:])\n",
    "    return sample"
   ]
  },
  {
   "cell_type": "code",
   "execution_count": null,
   "metadata": {},
   "outputs": [],
   "source": [
    "train_data = train_data.map(normalize_sample, writer_batch_size=128)\n",
    "valid_data = valid_data.map(normalize_sample, writer_batch_size=128)\n",
    "test_data = test_data.map(normalize_sample, writer_batch_size=128)"
   ]
  },
  {
   "cell_type": "markdown",
   "metadata": {},
   "source": [
    "## Save preprocessed dataset"
   ]
  },
  {
   "cell_type": "code",
   "execution_count": 21,
   "metadata": {},
   "outputs": [
    {
     "name": "stderr",
     "output_type": "stream",
     "text": [
      "Saving the dataset (21/21 shards): 100%|███████████████████████████████████████| 340/340 [01:23<00:00,  4.08 examples/s]\n",
      "Saving the dataset (5/5 shards): 100%|███████████████████████████████████████████| 69/69 [00:23<00:00,  2.88 examples/s]\n",
      "Saving the dataset (5/5 shards): 100%|███████████████████████████████████████████| 68/68 [00:20<00:00,  3.33 examples/s]\n"
     ]
    }
   ],
   "source": [
    "train_data.save_to_disk(os.path.join(_URLS['root'],_URLS['data_dir'], \"train_data\"))\n",
    "valid_data.save_to_disk(os.path.join(_URLS['root'],_URLS['data_dir'], \"valid_data\"))\n",
    "test_data.save_to_disk(os.path.join(_URLS['root'],_URLS['data_dir'], \"test_data\"))"
   ]
  },
  {
   "cell_type": "markdown",
   "metadata": {},
   "source": [
    "# Augmentations"
   ]
  },
  {
   "cell_type": "markdown",
   "metadata": {},
   "source": [
    "## Loading datasets"
   ]
  },
  {
   "cell_type": "code",
   "execution_count": 4,
   "metadata": {},
   "outputs": [],
   "source": [
    "train_data = datasets.load_from_disk(os.path.join(_URLS['root'],_URLS['data_dir'], \"train_data\"))\n",
    "valid_data = datasets.load_from_disk(os.path.join(_URLS['root'],_URLS['data_dir'], \"valid_data\"))\n",
    "test_data = datasets.load_from_disk(os.path.join(_URLS['root'],_URLS['data_dir'], \"test_data\"))"
   ]
  },
  {
   "cell_type": "markdown",
   "metadata": {
    "id": "izhZqbMD1xoi"
   },
   "source": [
    "Перетворення листків датасету в тензори toTensor замінено на torch.tensor()\n",
    "\n",
    "- Transform виконується одночасно на вхідному зображенні і масці; стосується лише афінних перетворень без зміни кольорів\n",
    "\n",
    "- Augmentation - лише для вхідного зображення post_fire - згладжує зображення для ідентифікації грубих фіч, видаляє частину інформації для підвищення робастності на реальному тестуванні\n",
    "\n",
    "- Important to denoise the data,\n",
    " using gaussian blur pyramids"
   ]
  },
  {
   "cell_type": "code",
   "execution_count": 5,
   "metadata": {
    "id": "9_0ylQTxjz2R"
   },
   "outputs": [],
   "source": [
    "transform = transforms.Compose([\n",
    "    transforms.RandomChoice([\n",
    "        transforms.RandomRotation(degrees=(-15, 15)),\n",
    "        transforms.RandomRotation(degrees=(80, 100))\n",
    "    ]),\n",
    "    transforms.RandomAffine(degrees=0, translate=(0.3, 0.3)),\n",
    "    transforms.RandomHorizontalFlip(p=0.5),\n",
    "    transforms.RandomVerticalFlip(p=0.5),\n",
    "])\n",
    "\n",
    "augmentation = transforms.Compose([\n",
    "    transforms.GaussianNoise(sigma=0.12),\n",
    "    transforms.GaussianBlur(kernel_size=(3, 3), sigma=(0.1, 2.0)),\n",
    "])"
   ]
  },
  {
   "cell_type": "markdown",
   "metadata": {
    "id": "MVxElaw2vbXZ"
   },
   "source": [
    "![spectral_index.png](data:image/png;base64,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)"
   ]
  },
  {
   "cell_type": "code",
   "execution_count": 6,
   "metadata": {
    "id": "oUe2h8zV_IUR"
   },
   "outputs": [],
   "source": [
    "# Define a custom PyTorch Dataset to apply transformations\n",
    "class CaBuArPyTorchDataset(Dataset):\n",
    "    def __init__(self, hf_dataset, transform=None, augment=None):\n",
    "        self.hf_dataset = hf_dataset\n",
    "        self.transform = transform\n",
    "        self.augment = augment\n",
    "\n",
    "    def __len__(self):\n",
    "        return len(self.hf_dataset)\n",
    "\n",
    "    def __getitem__(self, idx):\n",
    "        sample = self.hf_dataset[idx]\n",
    "        pre_fire = sample['pre_fire']\n",
    "        post_fire = sample['post_fire']\n",
    "        mask = sample['mask']\n",
    "\n",
    "        # Augment layers: edge detection, saturation etc.\n",
    "        if self.augment:\n",
    "            pre_fire = self.augment(pre_fire)\n",
    "            post_fire = self.augment(post_fire)\n",
    "\n",
    "        # Concatenate pre-fire, post-fire, NDVI, difference\n",
    "        combined_input = torch.cat([pre_fire, post_fire, mask], dim=0)  # 28 channels]\n",
    "\n",
    "        # Transform all layers uniformly, to maintain ground truth on validation\n",
    "        if self.transform:\n",
    "            combined_input = self.transform(combined_input)\n",
    "\n",
    "        # Prepare the X_input and y\n",
    "        return combined_input[:-1], torch.round(combined_input[-1].unsqueeze(0))"
   ]
  },
  {
   "cell_type": "markdown",
   "metadata": {
    "id": "d-DX3r765TQW"
   },
   "source": [
    "Обгортка для передачі даних на CUDA"
   ]
  },
  {
   "cell_type": "code",
   "execution_count": 7,
   "metadata": {
    "id": "Xg7Zgh9gjz2U"
   },
   "outputs": [],
   "source": [
    "class WrappedDataLoader:\n",
    "    def __init__(self, loader, func):\n",
    "        self.loader = loader\n",
    "        self.func = func\n",
    "\n",
    "    def __len__(self):\n",
    "        return len(self.loader)\n",
    "\n",
    "    def __iter__(self):\n",
    "        for batch in iter(self.loader):\n",
    "            yield self.func(*batch)"
   ]
  },
  {
   "cell_type": "markdown",
   "metadata": {
    "id": "qvJAleVJC5DE"
   },
   "source": [
    "## Використовуємо за Loss Combined BCE + F1 (Dice loss)\n",
    "\n",
    "## Метрики - попіксельно F1/AuC та Extended IoU\n",
    "\n",
    "Покращений IoU враховує відстань між масками і ground truth навіть за нульового перекриття, уникає плато нульового градієнту."
   ]
  },
  {
   "cell_type": "code",
   "execution_count": 8,
   "metadata": {
    "id": "yqF61jlQarwP"
   },
   "outputs": [],
   "source": [
    "def write_results(results_file, results, format='csv'):\n",
    "    with open(results_file, mode='w') as cf:\n",
    "        if format == 'json':\n",
    "            json.dump(results, cf, indent=4)\n",
    "        else:\n",
    "            if not isinstance(results, (list, tuple)):\n",
    "                results = [results]\n",
    "            if not results:\n",
    "                return\n",
    "            dw = csv.DictWriter(cf, fieldnames=results[0].keys())\n",
    "            dw.writeheader()\n",
    "            for r in results:\n",
    "                dw.writerow(r)\n",
    "            cf.flush()\n",
    "\n",
    "def get_outfile(path, *paths, inc=False):\n",
    "    outfile = os.path.join(path, *paths)\n",
    "    if not os.path.exists(os.path.dirname(outfile)):\n",
    "        os.makedirs(os.path.dirname(outfile))\n",
    "    return outfile\n",
    "\n",
    "def update_summary(epoch, train_metrics, eval_metrics, filename, write_header=False, log_wandb=False):\n",
    "    rowd = OrderedDict(epoch=epoch)\n",
    "    rowd.update([('train_' + k, v) for k, v in train_metrics.items()])\n",
    "    rowd.update([('eval_' + k, v) for k, v in eval_metrics.items()])\n",
    "    # if log_wandb:\n",
    "    #     wandb.log(rowd)\n",
    "    with open(filename, mode='a') as cf:\n",
    "        dw = csv.DictWriter(cf, fieldnames=rowd.keys())\n",
    "        if write_header:  # first iteration (epoch == 1 can't be used)\n",
    "            dw.writeheader()\n",
    "        dw.writerow(rowd)"
   ]
  },
  {
   "cell_type": "code",
   "execution_count": 9,
   "metadata": {
    "id": "Kb3aceiKpyGH"
   },
   "outputs": [],
   "source": [
    "class DiceBCELoss(nn.Module):\n",
    "    def __init__(self, size_average=True):\n",
    "        super(DiceBCELoss, self).__init__()\n",
    "\n",
    "    def forward(self, inputs, targets, weights=None, smooth=1):\n",
    "\n",
    "        inputs = torch.sigmoid(inputs)\n",
    "\n",
    "        bce = torch.nn.functional.binary_cross_entropy(inputs, targets, weight=weights, reduction='mean')\n",
    "\n",
    "        #flatten label and prediction tensors\n",
    "        inputs = inputs.view(-1)\n",
    "        targets = targets.view(-1)\n",
    "\n",
    "        intersection = (inputs * targets).sum()\n",
    "        dice_loss = 1 - (2.*intersection + smooth)/(inputs.sum() + targets.sum() + smooth)\n",
    "\n",
    "\n",
    "        return bce + dice_loss"
   ]
  },
  {
   "cell_type": "markdown",
   "metadata": {
    "id": "wxn9kog2H722"
   },
   "source": [
    "### Не використовується як лосс, а як метрика для порівняння результатів"
   ]
  },
  {
   "cell_type": "code",
   "execution_count": 10,
   "metadata": {
    "id": "NdbwgrlgAF-Q"
   },
   "outputs": [],
   "source": [
    "class Dice(nn.Module):\n",
    "    def __init__(self, size_average=True):\n",
    "        super(Dice, self).__init__()\n",
    "\n",
    "    def forward(self, inputs, targets, weights=None, smooth=1):\n",
    "\n",
    "        inputs = torch.round(torch.sigmoid(inputs))\n",
    "\n",
    "        #flatten label and prediction tensors\n",
    "        inputs = inputs.view(-1)\n",
    "        targets = targets.view(-1)\n",
    "\n",
    "        intersection = (inputs * targets).sum()\n",
    "        dice_score = (2.*intersection + smooth) / (inputs.sum() + targets.sum() + smooth)\n",
    "        return dice_score"
   ]
  },
  {
   "cell_type": "code",
   "execution_count": 11,
   "metadata": {
    "id": "KBIpidV_yO4-"
   },
   "outputs": [],
   "source": [
    "class IoU(nn.Module):\n",
    "    def __init__(self, size_average=True):\n",
    "        super(IoU, self).__init__()\n",
    "\n",
    "    def forward(self, inputs, targets, smooth=1):\n",
    "\n",
    "        inputs = torch.round(torch.sigmoid(inputs))\n",
    "\n",
    "        #flatten label and prediction tensors\n",
    "        inputs = inputs.view(-1)\n",
    "        targets = targets.view(-1)\n",
    "\n",
    "        #intersection is equivalent to True Positive count\n",
    "        #union is the mutually inclusive area of all labels & predictions\n",
    "        intersection = (inputs * targets).sum()\n",
    "        total = (inputs + targets).sum()\n",
    "        union = total - intersection\n",
    "\n",
    "        IoU = (intersection + smooth) / (union + smooth)\n",
    "\n",
    "        return IoU"
   ]
  },
  {
   "cell_type": "markdown",
   "metadata": {
    "id": "9rZWYWUe6XwI"
   },
   "source": [
    "### Додамо ваги класів в лосс для урахування дизбалансу."
   ]
  },
  {
   "cell_type": "code",
   "execution_count": 12,
   "metadata": {
    "id": "-aoD5hdy84nF"
   },
   "outputs": [],
   "source": [
    "total = 512*512*len(train_data)\n",
    "positive_class = torch.sum(train_data[\"mask\"].to(torch.int))\n",
    "negative_class = total - positive_class\n",
    "class_weights = torch.tensor([total / 2 / negative_class, total / 2 / positive_class]).to(device)"
   ]
  },
  {
   "cell_type": "code",
   "execution_count": 13,
   "metadata": {
    "id": "zoZjbsTyTuiQ"
   },
   "outputs": [],
   "source": [
    "### Class imbalance (sometimes a few pixels against a backdrop of a single class)\n",
    "### Should be solved by applying weight for error on each class by its size\n",
    "\n",
    "def class_weights_mapping(y):\n",
    "    return class_weights[y.to(torch.int)]"
   ]
  },
  {
   "cell_type": "markdown",
   "metadata": {
    "id": "cr1JsBDt6nk4"
   },
   "source": [
    "# Пайплайн тренування і валідації"
   ]
  },
  {
   "cell_type": "code",
   "execution_count": 14,
   "metadata": {
    "id": "W9cMQ3tC5EYW"
   },
   "outputs": [],
   "source": [
    "def loss(model,\n",
    "         loss_func,\n",
    "         X, y,\n",
    "         weights=None,\n",
    "         optimizer=None\n",
    "):\n",
    "    loss_ = loss_func(model(X), y, weights)\n",
    "    if optimizer is not None:\n",
    "      loss_.backward()\n",
    "      optimizer.step()\n",
    "      optimizer.zero_grad()\n",
    "\n",
    "    return loss_.item(), X.size(0)"
   ]
  },
  {
   "cell_type": "code",
   "execution_count": 15,
   "metadata": {
    "id": "vKFL3tb3fZ69"
   },
   "outputs": [],
   "source": [
    "iou_metric = IoU()\n",
    "f1_metric = Dice()\n",
    "def validate(\n",
    "        model,\n",
    "        loader,\n",
    "        loss_fn,\n",
    "        device=torch.device('cuda'),\n",
    "        log_suffix='',\n",
    "        log_frequency=10\n",
    "):\n",
    "    batch_time_m = utils.AverageMeter()\n",
    "    losses_m = utils.AverageMeter()\n",
    "    f1_m = utils.AverageMeter()\n",
    "    iou_m = utils.AverageMeter()\n",
    "\n",
    "    model.eval()\n",
    "\n",
    "    end = time.time()\n",
    "    last_idx = len(loader) - 1\n",
    "    with torch.no_grad():\n",
    "        for batch_idx, (input, target) in enumerate(loader):\n",
    "            last_batch = batch_idx == last_idx\n",
    "            input = input.to(device)\n",
    "            target = target.to(device)\n",
    "\n",
    "            output = model(input)\n",
    "            loss = loss_fn.forward(output, target)\n",
    "            pred = torch.round(output)\n",
    "            f1 = f1_metric(pred, target)\n",
    "            iou = iou_metric(pred, target)\n",
    "\n",
    "            losses_m.update(loss, input.size(0))\n",
    "            f1_m.update(f1, input.size(0))\n",
    "            iou_m.update(iou, input.size(0))\n",
    "\n",
    "            batch_time_m.update(time.time() - end)\n",
    "            end = time.time()\n",
    "\n",
    "    return losses_m.avg, f1_m.avg, iou_m.avg"
   ]
  },
  {
   "cell_type": "code",
   "execution_count": 16,
   "metadata": {
    "id": "wY8THHJ-O-2O"
   },
   "outputs": [],
   "source": [
    "def fit(epochs,\n",
    "        batch_size,\n",
    "        model,\n",
    "        loss_func,\n",
    "        optimizer,\n",
    "        train_loader,\n",
    "        valid_loader,\n",
    "        lr_scheduler,\n",
    "        patience=20,\n",
    "        log_file=None\n",
    "):\n",
    "    history = []\n",
    "\n",
    "    wait = 0\n",
    "    val_loss_min = torch.inf\n",
    "    train_loss = utils.AverageMeter()\n",
    "\n",
    "    for epoch in tqdm(range(epochs)):\n",
    "        train_loss.reset()\n",
    "        model.train()\n",
    "        running_loss = 0.\n",
    "        losses = []\n",
    "        for X, y in train_loader:\n",
    "          weight = class_weights_mapping(y)\n",
    "          train_loss.update(*loss(model, loss_func, X, y, weight, optimizer))\n",
    "\n",
    "        if lr_scheduler is not None:\n",
    "            lr_scheduler.step()\n",
    "\n",
    "        val_loss, val_f1, val_iou = validate(model, valid_loader, loss_func, device)\n",
    "\n",
    "        print(f\"\\nepoch: {epoch+1:3}, loss: {train_loss.avg:.5f}, valid loss: {val_loss:.5f}, valid F1 score: {val_f1:.3f}, valid IoU: {val_iou:.3f}\")\n",
    "\n",
    "        history.append((train_loss.avg, val_loss.item(), val_f1.item(), val_iou.item()))\n",
    "\n",
    "\n",
    "        #TODO\n",
    "        if log_file is not None:\n",
    "          update_summary(epoch, {\"loss\": train_loss.avg}, {\"loss\": val_loss, \"f1\": val_f1, \"iou\":val_iou},\n",
    "                    filename=f\"{log_file}\", write_header=new_file)\n",
    "          new_file = False\n",
    "            # Save model if validation loss has decreased\n",
    "        if val_loss <= val_loss_min:\n",
    "            print(f\"Validation loss decreased ({val_loss_min:.6f} --> {val_loss:.6f}). Saving model...\")\n",
    "            torch.save(model.state_dict(), \"model.pt\")\n",
    "            val_loss_min = val_loss\n",
    "            wait = 0\n",
    "        # Early stopping\n",
    "        else:\n",
    "            wait += 1\n",
    "            if wait >= patience:\n",
    "                print(f\"Terminated Training for Early Stopping at Epoch {epoch+1}\")\n",
    "                return history\n",
    "\n",
    "    return history"
   ]
  },
  {
   "cell_type": "code",
   "execution_count": 17,
   "metadata": {
    "id": "zc3D_8CkM42k"
   },
   "outputs": [],
   "source": [
    "def train(model, criterion, metric, optimizer, n_epochs,\n",
    "          batch=64, saving_model_path=None, lr_scheduler=None):\n",
    "    train_dataset = CaBuArPyTorchDataset(\n",
    "        hf_dataset=train_data,\n",
    "        transform=transform,\n",
    "        augment=augmentation,\n",
    "    )\n",
    "    valid_dataset = CaBuArPyTorchDataset(\n",
    "        hf_dataset=valid_data,\n",
    "    )\n",
    "    test_dataset = CaBuArPyTorchDataset(\n",
    "        hf_dataset=test_data,\n",
    "    )\n",
    "\n",
    "    train_loader = WrappedDataLoader(DataLoader(\n",
    "        train_dataset,\n",
    "        batch_size=_BATCH_SIZE,       # Adjust batch size as needed\n",
    "        shuffle=True,        # Shuffle for training\n",
    "        num_workers=_NUM_WORKERS,       # Number of subprocesses for data loading\n",
    "        pin_memory=True,     # Speed up transfer to GPU\n",
    "        persistent_workers=True\n",
    "    ), to_device)\n",
    "    valid_loader = WrappedDataLoader(DataLoader(\n",
    "        valid_dataset,\n",
    "        batch_size=_BATCH_SIZE,       # Adjust batch size as needed\n",
    "        shuffle=False,        # Shuffle for training\n",
    "        num_workers=_NUM_WORKERS,       # Number of subprocesses for data loading\n",
    "        pin_memory=True,     # Speed up transfer to GPU\n",
    "        persistent_workers=True\n",
    "    ), to_device)\n",
    "    test_loader = WrappedDataLoader(DataLoader(\n",
    "        test_dataset,\n",
    "        batch_size=_BATCH_SIZE,       # Adjust batch size as needed\n",
    "        shuffle=False,        # Shuffle for training\n",
    "        num_workers=_NUM_WORKERS,       # Number of subprocesses for data loading\n",
    "        pin_memory=True,     # Speed up transfer to GPU\n",
    "        persistent_workers=True\n",
    "    ), to_device)\n",
    "\n",
    "    print(\"\\nFitting nn model\")\n",
    "    start_time = time.time()\n",
    "\n",
    "    history = fit(n_epochs, batch, model.to(device), criterion, optimizer, train_loader, valid_loader, lr_scheduler)\n",
    "    t = time.time() - start_time\n",
    "    print(f'Fit time: {t} s')\n",
    "\n",
    "    check_point = torch.load(\"model.pt\", map_location=device)\n",
    "    model.load_state_dict(check_point)\n",
    "\n",
    "    test_loss, test_f1, test_iou = validate(model, test_loader, criterion, device=device)\n",
    "\n",
    "    if saving_model_path is not None:\n",
    "        print(\"Saving model\")\n",
    "        torch.save(model.state_dict(), get_outfile(saving_model_path))\n",
    "        update_summary(\"test\", {}, {\"loss\": test_loss, \"f1\": test_f1, \"iou\":test_iou},\n",
    "                       filename=f\"{saving_model_path}\")\n",
    "\n",
    "    print(f\"Test loss: {test_loss:.5f}, test F1 score: {test_f1:.3f}, test IoU: {test_iou:.3f}\")\n",
    "    return history"
   ]
  },
  {
   "cell_type": "code",
   "execution_count": 18,
   "metadata": {
    "id": "3Wr6mmiRq2xa"
   },
   "outputs": [],
   "source": [
    "def plot_history(history):\n",
    "    x = range(1, len(history)+1)\n",
    "    train_loss, val_loss, f1_score, iou = zip(*history)\n",
    "    fig, ax = plt.subplots(3, 1, figsize=(12, 15))\n",
    "\n",
    "    ax[0].plot(x, train_loss, label=\"train\")\n",
    "    ax[0].plot(x, val_loss, label=\"val\")\n",
    "    ax[0].set_xticks(x)\n",
    "    ax[0].set_xlabel(\"Epoch\")\n",
    "    ax[0].set_ylabel(\"Loss\")\n",
    "    ax[0].set_title(\"Train and validation losses\")\n",
    "\n",
    "    ax[1].plot(x, f1_score)\n",
    "    ax[1].set_xticks(x)\n",
    "    ax[1].set_xlabel(\"Epoch\")\n",
    "    ax[1].set_ylim(0, 1)\n",
    "    ax[1].set_ylabel(\"F1\")\n",
    "    ax[1].set_title(\"Validation F1 score\")\n",
    "\n",
    "    ax[2].plot(x, iou)\n",
    "    ax[2].set_xticks(x)\n",
    "    ax[2].set_xlabel(\"Epoch\")\n",
    "    ax[2].set_ylim(0, 1)\n",
    "    ax[2].set_ylabel(\"IoU\")\n",
    "    ax[2].set_title(\"Validation IoU\")\n",
    "\n",
    "    plt.show()"
   ]
  },
  {
   "cell_type": "code",
   "execution_count": 19,
   "metadata": {
    "id": "7vgZv5PB1n6e"
   },
   "outputs": [],
   "source": [
    "def display_results(results, top_k, metric_key, title):\n",
    "\n",
    "    fig, axs = plt.subplots(3, top_k, figsize=(15, 8))\n",
    "    for i, result in enumerate(results):\n",
    "        # Image normalize\n",
    "        input_img = (result['input'] - result['input'].min()) / (result['input'].max() - result['input'].min())\n",
    "\n",
    "        # input\n",
    "        axs[0, i].imshow(input_img.permute(1, 2, 0).numpy())\n",
    "        axs[0, i].set_title(f\"Input\\n{metric_key.capitalize()}: {result[metric_key]:.4f}\")\n",
    "        axs[0, i].axis('off')\n",
    "\n",
    "        # target\n",
    "        axs[1, i].imshow(result['target'].squeeze().numpy(), cmap='gray')\n",
    "        axs[1, i].set_title(f\"Target\\nLoss: {result['loss']:.4f}\")\n",
    "        axs[1, i].axis('off')\n",
    "\n",
    "        # prediction\n",
    "        prediction = (result['prediction'] - result['prediction'].min()) / (result['prediction'].max() - result['prediction'].min())\n",
    "        axs[2, i].imshow(prediction.squeeze(), cmap='gray')\n",
    "        axs[2, i].set_title(\"Prediction\")\n",
    "        axs[2, i].axis('off')\n",
    "\n",
    "    plt.suptitle(title, fontsize=16)\n",
    "    plt.tight_layout()\n",
    "    plt.show()\n",
    "\n",
    "\n",
    "def sort_and_display_results(model, loader, loss_fn, top_k=5, metric_key='f1'):\n",
    "    model.eval()\n",
    "    results = []\n",
    "    with torch.no_grad():\n",
    "        for batch_idx, (input, target) in enumerate(loader):\n",
    "            input = input.to(device)\n",
    "            target = target.to(device)\n",
    "\n",
    "            output = model(input)\n",
    "            loss = loss_fn.forward(output, target)\n",
    "            pred = torch.round(output)\n",
    "            f1 = f1_metric(pred, target)\n",
    "            iou = iou_metric(pred, target)\n",
    "\n",
    "            for i in range(input.size(0)):\n",
    "                        results.append({\n",
    "                            'input': input[i].cpu(),\n",
    "                            'target': target[i].cpu(),\n",
    "                            'prediction': output[i].cpu(),\n",
    "                            'loss': loss.item(),\n",
    "                            'f1': f1.item(),\n",
    "                            'iou': iou.item()\n",
    "                        })\n",
    "\n",
    "\n",
    "    if not all(metric_key in result for result in results):\n",
    "        raise KeyError(f\"Key '{metric_key}' not found in results.\")\n",
    "\n",
    "    # choose sort option\n",
    "    is_loss = metric_key == 'loss'\n",
    "    reverse_best = not is_loss\n",
    "    reverse_worst = is_loss\n",
    "\n",
    "    # sorted result\n",
    "    sorted_results_best = sorted(results, key=lambda x: x[metric_key], reverse=reverse_best)[:top_k]\n",
    "    sorted_results_worst = sorted(results, key=lambda x: x[metric_key], reverse=reverse_worst)[:top_k]\n",
    "\n",
    "    # show best and worst by metrik and loss\n",
    "    display_results(sorted_results_best, top_k, metric_key, title=f\"Top {top_k} Best by {metric_key}\")\n",
    "    display_results(sorted_results_worst, top_k, metric_key, title=f\"Top {top_k} Worst by {metric_key}\")\n",
    "\n",
    "    return results\n",
    "# loss_avg, iou_avg, results = validate(fcn_model, vd_loader, criterion, device=device)\n",
    "\n",
    "# sort_and_display_results(results, top_k=5, metric_key='metric')\n",
    "# sort_and_display_results(results, top_k=5, metric_key='loss')\n"
   ]
  },
  {
   "cell_type": "markdown",
   "metadata": {
    "id": "nBvVpxypq2xa"
   },
   "source": [
    "# Building FCN"
   ]
  },
  {
   "cell_type": "markdown",
   "metadata": {
    "id": "3Ti1Khluq2xa"
   },
   "source": [
    "## Model"
   ]
  },
  {
   "cell_type": "code",
   "execution_count": 24,
   "metadata": {
    "id": "Th6i1KbyHUkc"
   },
   "outputs": [],
   "source": [
    "from torchvision.models.segmentation import fcn_resnet101\n",
    "\n",
    "class FCN_Model(nn.Module):\n",
    "    def __init__(self, num_classes):\n",
    "        super().__init__()\n",
    "        self.base_model = fcn_resnet101(num_classes=num_classes, aux_loss=True, weights_backbone=None)\n",
    "\n",
    "    def forward(self, x):\n",
    "        features = self.base_model(x)\n",
    "        out = features[\"out\"]\n",
    "        aux = features[\"aux\"]\n",
    "        res = self.head_out(out) + self.head_aux(aux)\n",
    "        return res"
   ]
  },
  {
   "cell_type": "code",
   "execution_count": 25,
   "metadata": {
    "id": "Q_Go8stvI1AG"
   },
   "outputs": [],
   "source": [
    "fcn_model = FCN_Model(num_classes=1).to(device)"
   ]
  },
  {
   "cell_type": "markdown",
   "metadata": {
    "id": "gRh6ea61k0TQ"
   },
   "source": [
    "## Train"
   ]
  },
  {
   "cell_type": "code",
   "execution_count": 26,
   "metadata": {
    "id": "fk59Ya5VjvnA"
   },
   "outputs": [],
   "source": [
    "criterion = DiceBCELoss()\n",
    "metric = IoU()\n",
    "optimizer = torch.optim.Adam(fcn_model.parameters(), lr=1e-4)\n",
    "lr_scheduler = torch.optim.lr_scheduler.StepLR(optimizer, 5, 0.5)"
   ]
  },
  {
   "cell_type": "code",
   "execution_count": null,
   "metadata": {
    "id": "YDkXMGBVRW9L"
   },
   "outputs": [],
   "source": [
    "history = train(\n",
    "    fcn_model,\n",
    "    criterion,\n",
    "    metric,\n",
    "    optimizer,\n",
    "    100,\n",
    "    batch=_BATCH_SIZE,\n",
    "    saving_model_path=\"model/fcn_model.pt\",\n",
    "    lr_scheduler=lr_scheduler\n",
    ")"
   ]
  },
  {
   "cell_type": "code",
   "execution_count": null,
   "metadata": {
    "id": "qwye0kFpq2xc"
   },
   "outputs": [],
   "source": [
    "plot_history(history)"
   ]
  },
  {
   "cell_type": "markdown",
   "metadata": {
    "id": "2FMo5tE5-Fpv"
   },
   "source": [
    "# Building U-Net"
   ]
  },
  {
   "cell_type": "markdown",
   "metadata": {
    "id": "p3qnOCNT-NJq"
   },
   "source": [
    "## Model"
   ]
  },
  {
   "cell_type": "code",
   "execution_count": 23,
   "metadata": {
    "id": "T1ck94HB84nP"
   },
   "outputs": [],
   "source": [
    "class DoubleConv(nn.Module):\n",
    "    \"\"\"(BN => Conv => ReLU) * 2\"\"\"\n",
    "\n",
    "    def __init__(self, in_channels, out_channels, mid_channels=None):\n",
    "        super().__init__()\n",
    "        if not mid_channels:\n",
    "            mid_channels = out_channels\n",
    "        self.double_conv = nn.Sequential(\n",
    "            nn.BatchNorm2d(in_channels),\n",
    "            nn.Conv2d(in_channels, mid_channels, kernel_size=3, padding=1, bias=False),\n",
    "            nn.ReLU(inplace=True),\n",
    "            nn.BatchNorm2d(mid_channels),\n",
    "            nn.Conv2d(mid_channels, out_channels, kernel_size=3, padding=1, bias=False),\n",
    "            nn.ReLU(inplace=True)\n",
    "        )\n",
    "\n",
    "    def forward(self, x):\n",
    "        return self.double_conv(x)\n",
    "\n",
    "\n",
    "class Down(nn.Module):\n",
    "    \"\"\"Downscaling with maxpool then double conv\"\"\"\n",
    "\n",
    "    def __init__(self, in_channels, out_channels):\n",
    "        super().__init__()\n",
    "        self.maxpool_conv = nn.Sequential(\n",
    "            nn.MaxPool2d(2),\n",
    "            DoubleConv(in_channels, out_channels)\n",
    "        )\n",
    "\n",
    "    def forward(self, x):\n",
    "        return self.maxpool_conv(x)\n",
    "\n",
    "\n",
    "class Up(nn.Module):\n",
    "    \"\"\"Upscaling then double conv\"\"\"\n",
    "\n",
    "    def __init__(self, in_channels, out_channels, bilinear=True):\n",
    "        super().__init__()\n",
    "\n",
    "        # if bilinear, use the normal convolutions to reduce the number of channels\n",
    "        if bilinear:\n",
    "            self.up = nn.Upsample(scale_factor=2, mode='bilinear', align_corners=True)\n",
    "            self.conv = DoubleConv(in_channels, out_channels, in_channels // 2)\n",
    "        else:\n",
    "            self.up = nn.ConvTranspose2d(in_channels, in_channels // 2, kernel_size=2, stride=2)\n",
    "            self.conv = DoubleConv(in_channels, out_channels)\n",
    "\n",
    "    def forward(self, x1, x2):\n",
    "        x1 = self.up(x1)\n",
    "        # input is CHW\n",
    "        diffY = x2.size()[2] - x1.size()[2]\n",
    "        diffX = x2.size()[3] - x1.size()[3]\n",
    "\n",
    "        x1 = F.pad(x1, [diffX // 2, diffX - diffX // 2,\n",
    "                        diffY // 2, diffY - diffY // 2])\n",
    "        x = torch.cat([x2, x1], dim=1)\n",
    "        return self.conv(x)\n",
    "\n",
    "\n",
    "class OutConv(nn.Module):\n",
    "    def __init__(self, in_channels, out_channels):\n",
    "        super(OutConv, self).__init__()\n",
    "        self.conv = nn.Conv2d(in_channels, out_channels, kernel_size=1)\n",
    "\n",
    "    def forward(self, x):\n",
    "        return self.conv(x)"
   ]
  },
  {
   "cell_type": "code",
   "execution_count": 24,
   "metadata": {
    "id": "-VN3IFCx-RzM"
   },
   "outputs": [],
   "source": [
    "class UNet(nn.Module):\n",
    "    def __init__(self, n_channels, n_layer1, n_classes, bilinear=False):\n",
    "        super(UNet, self).__init__()\n",
    "        self.n_channels = n_channels\n",
    "        self.n_classes = n_classes\n",
    "        self.bilinear = bilinear\n",
    "\n",
    "        n_layer2 = n_layer1 * 2\n",
    "        n_layer3 = n_layer2 * 2\n",
    "        n_layer4 = n_layer3 * 2\n",
    "        n_layer5 = n_layer4 * 2\n",
    "        \n",
    "        self.inc = (DoubleConv(n_channels, n_layer1))\n",
    "        self.down1 = (Down(n_layer1, n_layer2))\n",
    "        self.down2 = (Down(n_layer2, n_layer3))\n",
    "        self.down3 = (Down(n_layer3, n_layer4))\n",
    "        factor = 2 if bilinear else 1\n",
    "        self.down4 = (Down(n_layer4, n_layer5 // factor))\n",
    "        self.up1 = (Up(n_layer5, n_layer4 // factor, bilinear))\n",
    "        self.up2 = (Up(n_layer4, n_layer3 // factor, bilinear))\n",
    "        self.up3 = (Up(n_layer3, n_layer2 // factor, bilinear))\n",
    "        self.up4 = (Up(n_layer2, n_layer1, bilinear))\n",
    "        self.outc = (OutConv(n_layer1, n_classes))\n",
    "\n",
    "    def forward(self, x):\n",
    "        x1 = self.inc(x)\n",
    "        x2 = self.down1(x1)\n",
    "        x3 = self.down2(x2)\n",
    "        x4 = self.down3(x3)\n",
    "        x5 = self.down4(x4)\n",
    "        x = self.up1(x5, x4)\n",
    "        x = self.up2(x, x3)\n",
    "        x = self.up3(x, x2)\n",
    "        x = self.up4(x, x1)\n",
    "        logits = self.outc(x)\n",
    "        return logits"
   ]
  },
  {
   "cell_type": "code",
   "execution_count": 25,
   "metadata": {
    "id": "fXTvLr6yq2xe"
   },
   "outputs": [],
   "source": [
    "unet_model = UNet(28, 64, 1).to(device)"
   ]
  },
  {
   "cell_type": "code",
   "execution_count": null,
   "metadata": {
    "id": "qhyDoX5RBlEI"
   },
   "outputs": [],
   "source": [
    "check_point = torch.load(\"unet_model.pt\", map_location=torch.device('cpu'))\n",
    "unet_model.load_state_dict(check_point)"
   ]
  },
  {
   "cell_type": "code",
   "execution_count": null,
   "metadata": {
    "id": "nVVw2k5yBqkm"
   },
   "outputs": [],
   "source": [
    "sort_and_display_results(unet_model, test_loader, criterion, top_k=5, metric_key='loss')"
   ]
  },
  {
   "cell_type": "markdown",
   "metadata": {
    "id": "eh6-kYuoq2xe"
   },
   "source": [
    "## Train"
   ]
  },
  {
   "cell_type": "code",
   "execution_count": 23,
   "metadata": {
    "colab": {
     "base_uri": "https://localhost:8080/",
     "height": 193
    },
    "id": "Ct0DlU7Rq2xf",
    "outputId": "e6864eff-a234-4350-c5de-0712eec358f0"
   },
   "outputs": [],
   "source": [
    "criterion = DiceBCELoss()\n",
    "metric = IoU()\n",
    "optimizer = torch.optim.Adam(unet_model.parameters(), lr=1e-4)\n",
    "lr_scheduler = torch.optim.lr_scheduler.StepLR(optimizer, 5, 0.5)"
   ]
  },
  {
   "cell_type": "code",
   "execution_count": 24,
   "metadata": {
    "id": "dVvsdfFCq2xf"
   },
   "outputs": [
    {
     "name": "stdout",
     "output_type": "stream",
     "text": [
      "\n",
      "Fitting nn model\n"
     ]
    },
    {
     "name": "stderr",
     "output_type": "stream",
     "text": [
      "  0%|                                                                                           | 0/100 [00:00<?, ?it/s]"
     ]
    },
    {
     "name": "stdout",
     "output_type": "stream",
     "text": [
      "\n",
      "epoch:   1, loss: 1.26790, valid loss: 2.51803, valid F1 score: 0.167, valid IoU: 0.104\n",
      "Validation loss decreased (inf --> 2.518032). Saving model...\n"
     ]
    },
    {
     "name": "stderr",
     "output_type": "stream",
     "text": [
      "  2%|█▌                                                                               | 2/100 [02:22<1:55:52, 70.95s/it]"
     ]
    },
    {
     "name": "stdout",
     "output_type": "stream",
     "text": [
      "\n",
      "epoch:   2, loss: 1.07835, valid loss: 13.22504, valid F1 score: 0.115, valid IoU: 0.072\n",
      "\n",
      "epoch:   3, loss: 1.05830, valid loss: 2.25044, valid F1 score: 0.198, valid IoU: 0.129\n",
      "Validation loss decreased (2.518032 --> 2.250436). Saving model...\n"
     ]
    },
    {
     "name": "stderr",
     "output_type": "stream",
     "text": [
      "  4%|███▏                                                                             | 4/100 [04:41<1:51:26, 69.65s/it]"
     ]
    },
    {
     "name": "stdout",
     "output_type": "stream",
     "text": [
      "\n",
      "epoch:   4, loss: 1.01860, valid loss: 2.35342, valid F1 score: 0.285, valid IoU: 0.190\n"
     ]
    },
    {
     "name": "stderr",
     "output_type": "stream",
     "text": [
      "  5%|████                                                                             | 5/100 [05:49<1:49:48, 69.35s/it]"
     ]
    },
    {
     "name": "stdout",
     "output_type": "stream",
     "text": [
      "\n",
      "epoch:   5, loss: 1.03739, valid loss: 2.33189, valid F1 score: 0.132, valid IoU: 0.076\n"
     ]
    },
    {
     "name": "stderr",
     "output_type": "stream",
     "text": [
      "  5%|████                                                                             | 5/100 [06:33<2:04:41, 78.75s/it]\n",
      "\n",
      "KeyboardInterrupt\n",
      "\n"
     ]
    }
   ],
   "source": [
    "history = train(\n",
    "    unet_model,\n",
    "    criterion,\n",
    "    metric,\n",
    "    optimizer,\n",
    "    100,\n",
    "    batch=_BATCH_SIZE,\n",
    "    saving_model_path=\"model/unet_model.pt\",\n",
    "    lr_scheduler=lr_scheduler\n",
    ")"
   ]
  },
  {
   "cell_type": "code",
   "execution_count": null,
   "metadata": {
    "id": "3r56A3xPq2xf"
   },
   "outputs": [],
   "source": [
    "plot_history(history)"
   ]
  },
  {
   "cell_type": "markdown",
   "metadata": {
    "id": "EnTbK53p0pch"
   },
   "source": [
    "### Visualizing gradient changes from fire class\n",
    "\n",
    "### Using GradCAM"
   ]
  },
  {
   "cell_type": "markdown",
   "metadata": {
    "id": "D8a6bb8R1aVa"
   },
   "source": [
    "- Let's flatten the nested model layer structure for easy access"
   ]
  },
  {
   "cell_type": "code",
   "execution_count": 33,
   "metadata": {
    "id": "no43MZbP1Zny"
   },
   "outputs": [],
   "source": [
    "def module2traced(module, inputs):\n",
    "    handles, modules = [], []\n",
    "\n",
    "    def trace(module, inputs, outputs):\n",
    "        modules.append(module)\n",
    "\n",
    "    def traverse(module):\n",
    "        for m in module.children():\n",
    "            traverse(m)  # recursion is love\n",
    "        is_leaf = len(list(module.children())) == 0\n",
    "        if is_leaf: handles.append(module.register_forward_hook(trace))\n",
    "\n",
    "    traverse(module)\n",
    "\n",
    "    _ = module(inputs)\n",
    "\n",
    "    [h.remove() for h in handles]\n",
    "\n",
    "    return modules"
   ]
  },
  {
   "cell_type": "code",
   "execution_count": 58,
   "metadata": {
    "id": "CI081yui5H3i"
   },
   "outputs": [],
   "source": [
    "def relu_backward_deconv_hook(module, grad_input, grad_output):\n",
    "    return torch.nn.functional.relu(grad_output[0]),\n",
    "\n",
    "def equip_model_deconv(model):\n",
    "    for m in model.modules():\n",
    "        if isinstance(m, nn.ReLU):\n",
    "            m.register_backward_hook(relu_backward_deconv_hook)\n",
    "\n",
    "def hook_store_A(module, input, output):\n",
    "    module.A = output[0]\n",
    "def hook_store_dydA(module, grad_input, grad_output):\n",
    "    module.dydA = grad_output[0]"
   ]
  },
  {
   "cell_type": "code",
   "execution_count": 40,
   "metadata": {
    "colab": {
     "base_uri": "https://localhost:8080/"
    },
    "id": "-riFf0Uu33w_",
    "outputId": "441e636f-f0f4-4229-f308-10664839f68e"
   },
   "outputs": [
    {
     "name": "stderr",
     "output_type": "stream",
     "text": [
      "/usr/local/lib/python3.10/dist-packages/torch/utils/data/dataloader.py:617: UserWarning: This DataLoader will create 8 worker processes in total. Our suggested max number of worker in current system is 2, which is smaller than what this DataLoader is going to create. Please be aware that excessive worker creation might get DataLoader running slow or even freeze, lower the worker number to avoid potential slowness/freeze if necessary.\n",
      "  warnings.warn(\n",
      "<ipython-input-40-b42fbf82bf13>:2: FutureWarning: You are using `torch.load` with `weights_only=False` (the current default value), which uses the default pickle module implicitly. It is possible to construct malicious pickle data which will execute arbitrary code during unpickling (See https://github.com/pytorch/pytorch/blob/main/SECURITY.md#untrusted-models for more details). In a future release, the default value for `weights_only` will be flipped to `True`. This limits the functions that could be executed during unpickling. Arbitrary objects will no longer be allowed to be loaded via this mode unless they are explicitly allowlisted by the user via `torch.serialization.add_safe_globals`. We recommend you start setting `weights_only=True` for any use case where you don't have full control of the loaded file. Please open an issue on GitHub for any issues related to this experimental feature.\n",
      "  check_point = torch.load(\"fcn_model.pt\", map_location=torch.device('cpu'))\n"
     ]
    },
    {
     "data": {
      "text/plain": [
       "<All keys matched successfully>"
      ]
     },
     "execution_count": 40,
     "metadata": {},
     "output_type": "execute_result"
    }
   ],
   "source": [
    "input_t, y = next(iter(test_loader))\n",
    "check_point = torch.load(\"fcn_model.pt\", map_location=torch.device('cpu'))\n",
    "fcn_model.load_state_dict(check_point)"
   ]
  },
  {
   "cell_type": "code",
   "execution_count": 42,
   "metadata": {
    "id": "ZSiHgbz12M7E"
   },
   "outputs": [],
   "source": [
    "traced_fcn = module2traced(fcn_model, input_t)"
   ]
  },
  {
   "cell_type": "code",
   "execution_count": 62,
   "metadata": {
    "id": "WKH5rmwOLRks"
   },
   "outputs": [],
   "source": [
    "def free(modules):\n",
    "    for m in modules:\n",
    "        del m\n",
    "    torch.cuda.empty_cache()"
   ]
  },
  {
   "cell_type": "code",
   "execution_count": null,
   "metadata": {
    "id": "3P4mS0b8Lxnz"
   },
   "outputs": [],
   "source": [
    "free(traced_fcn)"
   ]
  },
  {
   "cell_type": "code",
   "execution_count": 45,
   "metadata": {
    "colab": {
     "base_uri": "https://localhost:8080/",
     "height": 321
    },
    "id": "AF3AYUj-ARah",
    "outputId": "179899ab-daac-4b5f-9966-cd0e048f46e2"
   },
   "outputs": [
    {
     "ename": "RuntimeError",
     "evalue": "grad can be implicitly created only for scalar outputs",
     "output_type": "error",
     "traceback": [
      "\u001b[0;31m---------------------------------------------------------------------------\u001b[0m",
      "\u001b[0;31mRuntimeError\u001b[0m                              Traceback (most recent call last)",
      "\u001b[0;32m<ipython-input-45-69fb17ba5ca4>\u001b[0m in \u001b[0;36m<cell line: 3>\u001b[0;34m()\u001b[0m\n\u001b[1;32m      1\u001b[0m \u001b[0minput_t\u001b[0m\u001b[0;34m.\u001b[0m\u001b[0mrequires_grad_\u001b[0m\u001b[0;34m(\u001b[0m\u001b[0;34m)\u001b[0m\u001b[0;34m\u001b[0m\u001b[0;34m\u001b[0m\u001b[0m\n\u001b[1;32m      2\u001b[0m \u001b[0moutput_t\u001b[0m \u001b[0;34m=\u001b[0m \u001b[0mfcn_model\u001b[0m\u001b[0;34m(\u001b[0m\u001b[0minput_t\u001b[0m\u001b[0;34m)\u001b[0m\u001b[0;34m\u001b[0m\u001b[0;34m\u001b[0m\u001b[0m\n\u001b[0;32m----> 3\u001b[0;31m \u001b[0mgrad_input\u001b[0m \u001b[0;34m=\u001b[0m \u001b[0mtorch\u001b[0m\u001b[0;34m.\u001b[0m\u001b[0mautograd\u001b[0m\u001b[0;34m.\u001b[0m\u001b[0mgrad\u001b[0m\u001b[0;34m(\u001b[0m\u001b[0moutput_t\u001b[0m\u001b[0;34m[\u001b[0m\u001b[0;36m0\u001b[0m\u001b[0;34m]\u001b[0m\u001b[0;34m,\u001b[0m \u001b[0moutput_t\u001b[0m\u001b[0;34m)\u001b[0m\u001b[0;34m\u001b[0m\u001b[0;34m\u001b[0m\u001b[0m\n\u001b[0m",
      "\u001b[0;32m/usr/local/lib/python3.10/dist-packages/torch/autograd/__init__.py\u001b[0m in \u001b[0;36mgrad\u001b[0;34m(outputs, inputs, grad_outputs, retain_graph, create_graph, only_inputs, allow_unused, is_grads_batched, materialize_grads)\u001b[0m\n\u001b[1;32m    467\u001b[0m \u001b[0;34m\u001b[0m\u001b[0m\n\u001b[1;32m    468\u001b[0m     \u001b[0mgrad_outputs_\u001b[0m \u001b[0;34m=\u001b[0m \u001b[0m_tensor_or_tensors_to_tuple\u001b[0m\u001b[0;34m(\u001b[0m\u001b[0mgrad_outputs\u001b[0m\u001b[0;34m,\u001b[0m \u001b[0mlen\u001b[0m\u001b[0;34m(\u001b[0m\u001b[0moutputs\u001b[0m\u001b[0;34m)\u001b[0m\u001b[0;34m)\u001b[0m\u001b[0;34m\u001b[0m\u001b[0;34m\u001b[0m\u001b[0m\n\u001b[0;32m--> 469\u001b[0;31m     grad_outputs_ = _make_grads(\n\u001b[0m\u001b[1;32m    470\u001b[0m         \u001b[0moutputs\u001b[0m\u001b[0;34m,\u001b[0m \u001b[0mgrad_outputs_\u001b[0m\u001b[0;34m,\u001b[0m \u001b[0mis_grads_batched\u001b[0m\u001b[0;34m=\u001b[0m\u001b[0mis_grads_batched\u001b[0m\u001b[0;34m\u001b[0m\u001b[0;34m\u001b[0m\u001b[0m\n\u001b[1;32m    471\u001b[0m     )\n",
      "\u001b[0;32m/usr/local/lib/python3.10/dist-packages/torch/autograd/__init__.py\u001b[0m in \u001b[0;36m_make_grads\u001b[0;34m(outputs, grads, is_grads_batched)\u001b[0m\n\u001b[1;32m    196\u001b[0m                     \u001b[0mout_numel_is_1\u001b[0m \u001b[0;34m=\u001b[0m \u001b[0mout\u001b[0m\u001b[0;34m.\u001b[0m\u001b[0mnumel\u001b[0m\u001b[0;34m(\u001b[0m\u001b[0;34m)\u001b[0m \u001b[0;34m==\u001b[0m \u001b[0;36m1\u001b[0m\u001b[0;34m\u001b[0m\u001b[0;34m\u001b[0m\u001b[0m\n\u001b[1;32m    197\u001b[0m                 \u001b[0;32mif\u001b[0m \u001b[0;32mnot\u001b[0m \u001b[0mout_numel_is_1\u001b[0m\u001b[0;34m:\u001b[0m\u001b[0;34m\u001b[0m\u001b[0;34m\u001b[0m\u001b[0m\n\u001b[0;32m--> 198\u001b[0;31m                     raise RuntimeError(\n\u001b[0m\u001b[1;32m    199\u001b[0m                         \u001b[0;34m\"grad can be implicitly created only for scalar outputs\"\u001b[0m\u001b[0;34m\u001b[0m\u001b[0;34m\u001b[0m\u001b[0m\n\u001b[1;32m    200\u001b[0m                     )\n",
      "\u001b[0;31mRuntimeError\u001b[0m: grad can be implicitly created only for scalar outputs"
     ]
    }
   ],
   "source": [
    "input_t.requires_grad_()\n",
    "output_t = fcn_model(input_t)\n"
   ]
  },
  {
   "cell_type": "code",
   "execution_count": 55,
   "metadata": {
    "colab": {
     "base_uri": "https://localhost:8080/",
     "height": 287
    },
    "id": "WcWnYrgsAU1t",
    "outputId": "b72f496f-3b1a-4ef0-96fc-37acfc7e5425"
   },
   "outputs": [
    {
     "ename": "RuntimeError",
     "evalue": "grad can be implicitly created only for scalar outputs",
     "output_type": "error",
     "traceback": [
      "\u001b[0;31m---------------------------------------------------------------------------\u001b[0m",
      "\u001b[0;31mRuntimeError\u001b[0m                              Traceback (most recent call last)",
      "\u001b[0;32m<ipython-input-55-700e273cf4d9>\u001b[0m in \u001b[0;36m<cell line: 1>\u001b[0;34m()\u001b[0m\n\u001b[0;32m----> 1\u001b[0;31m \u001b[0mgrad_input\u001b[0m \u001b[0;34m=\u001b[0m \u001b[0mtorch\u001b[0m\u001b[0;34m.\u001b[0m\u001b[0mautograd\u001b[0m\u001b[0;34m.\u001b[0m\u001b[0mgrad\u001b[0m\u001b[0;34m(\u001b[0m\u001b[0moutput_t\u001b[0m\u001b[0;34m[\u001b[0m\u001b[0;36m0\u001b[0m\u001b[0;34m]\u001b[0m\u001b[0;34m,\u001b[0m \u001b[0moutput_t\u001b[0m\u001b[0;34m)\u001b[0m\u001b[0;34m\u001b[0m\u001b[0;34m\u001b[0m\u001b[0m\n\u001b[0m",
      "\u001b[0;32m/usr/local/lib/python3.10/dist-packages/torch/autograd/__init__.py\u001b[0m in \u001b[0;36mgrad\u001b[0;34m(outputs, inputs, grad_outputs, retain_graph, create_graph, only_inputs, allow_unused, is_grads_batched, materialize_grads)\u001b[0m\n\u001b[1;32m    467\u001b[0m \u001b[0;34m\u001b[0m\u001b[0m\n\u001b[1;32m    468\u001b[0m     \u001b[0mgrad_outputs_\u001b[0m \u001b[0;34m=\u001b[0m \u001b[0m_tensor_or_tensors_to_tuple\u001b[0m\u001b[0;34m(\u001b[0m\u001b[0mgrad_outputs\u001b[0m\u001b[0;34m,\u001b[0m \u001b[0mlen\u001b[0m\u001b[0;34m(\u001b[0m\u001b[0moutputs\u001b[0m\u001b[0;34m)\u001b[0m\u001b[0;34m)\u001b[0m\u001b[0;34m\u001b[0m\u001b[0;34m\u001b[0m\u001b[0m\n\u001b[0;32m--> 469\u001b[0;31m     grad_outputs_ = _make_grads(\n\u001b[0m\u001b[1;32m    470\u001b[0m         \u001b[0moutputs\u001b[0m\u001b[0;34m,\u001b[0m \u001b[0mgrad_outputs_\u001b[0m\u001b[0;34m,\u001b[0m \u001b[0mis_grads_batched\u001b[0m\u001b[0;34m=\u001b[0m\u001b[0mis_grads_batched\u001b[0m\u001b[0;34m\u001b[0m\u001b[0;34m\u001b[0m\u001b[0m\n\u001b[1;32m    471\u001b[0m     )\n",
      "\u001b[0;32m/usr/local/lib/python3.10/dist-packages/torch/autograd/__init__.py\u001b[0m in \u001b[0;36m_make_grads\u001b[0;34m(outputs, grads, is_grads_batched)\u001b[0m\n\u001b[1;32m    196\u001b[0m                     \u001b[0mout_numel_is_1\u001b[0m \u001b[0;34m=\u001b[0m \u001b[0mout\u001b[0m\u001b[0;34m.\u001b[0m\u001b[0mnumel\u001b[0m\u001b[0;34m(\u001b[0m\u001b[0;34m)\u001b[0m \u001b[0;34m==\u001b[0m \u001b[0;36m1\u001b[0m\u001b[0;34m\u001b[0m\u001b[0;34m\u001b[0m\u001b[0m\n\u001b[1;32m    197\u001b[0m                 \u001b[0;32mif\u001b[0m \u001b[0;32mnot\u001b[0m \u001b[0mout_numel_is_1\u001b[0m\u001b[0;34m:\u001b[0m\u001b[0;34m\u001b[0m\u001b[0;34m\u001b[0m\u001b[0m\n\u001b[0;32m--> 198\u001b[0;31m                     raise RuntimeError(\n\u001b[0m\u001b[1;32m    199\u001b[0m                         \u001b[0;34m\"grad can be implicitly created only for scalar outputs\"\u001b[0m\u001b[0;34m\u001b[0m\u001b[0;34m\u001b[0m\u001b[0m\n\u001b[1;32m    200\u001b[0m                     )\n",
      "\u001b[0;31mRuntimeError\u001b[0m: grad can be implicitly created only for scalar outputs"
     ]
    }
   ],
   "source": [
    "grad_input = torch.autograd.grad(output_t[0], output_t)"
   ]
  },
  {
   "cell_type": "code",
   "execution_count": 47,
   "metadata": {
    "colab": {
     "base_uri": "https://localhost:8080/"
    },
    "id": "huXozTtq9jge",
    "outputId": "8eabe7b3-d3a4-4a50-aeaa-ca2becf9dc80"
   },
   "outputs": [
    {
     "name": "stdout",
     "output_type": "stream",
     "text": [
      "[Conv2d(3, 64, kernel_size=(7, 7), stride=(2, 2), padding=(3, 3), bias=False), BatchNorm2d(64, eps=1e-05, momentum=0.1, affine=True, track_running_stats=True), ReLU(inplace=True), MaxPool2d(kernel_size=3, stride=2, padding=1, dilation=1, ceil_mode=False), Conv2d(64, 64, kernel_size=(1, 1), stride=(1, 1), bias=False), BatchNorm2d(64, eps=1e-05, momentum=0.1, affine=True, track_running_stats=True), ReLU(inplace=True), Conv2d(64, 64, kernel_size=(3, 3), stride=(1, 1), padding=(1, 1), bias=False), BatchNorm2d(64, eps=1e-05, momentum=0.1, affine=True, track_running_stats=True), ReLU(inplace=True), Conv2d(64, 256, kernel_size=(1, 1), stride=(1, 1), bias=False), BatchNorm2d(256, eps=1e-05, momentum=0.1, affine=True, track_running_stats=True), Conv2d(64, 256, kernel_size=(1, 1), stride=(1, 1), bias=False), BatchNorm2d(256, eps=1e-05, momentum=0.1, affine=True, track_running_stats=True), ReLU(inplace=True), Conv2d(256, 64, kernel_size=(1, 1), stride=(1, 1), bias=False), BatchNorm2d(64, eps=1e-05, momentum=0.1, affine=True, track_running_stats=True), ReLU(inplace=True), Conv2d(64, 64, kernel_size=(3, 3), stride=(1, 1), padding=(1, 1), bias=False), BatchNorm2d(64, eps=1e-05, momentum=0.1, affine=True, track_running_stats=True), ReLU(inplace=True), Conv2d(64, 256, kernel_size=(1, 1), stride=(1, 1), bias=False), BatchNorm2d(256, eps=1e-05, momentum=0.1, affine=True, track_running_stats=True), ReLU(inplace=True), Conv2d(256, 64, kernel_size=(1, 1), stride=(1, 1), bias=False), BatchNorm2d(64, eps=1e-05, momentum=0.1, affine=True, track_running_stats=True), ReLU(inplace=True), Conv2d(64, 64, kernel_size=(3, 3), stride=(1, 1), padding=(1, 1), bias=False), BatchNorm2d(64, eps=1e-05, momentum=0.1, affine=True, track_running_stats=True), ReLU(inplace=True), Conv2d(64, 256, kernel_size=(1, 1), stride=(1, 1), bias=False), BatchNorm2d(256, eps=1e-05, momentum=0.1, affine=True, track_running_stats=True), ReLU(inplace=True), Conv2d(256, 128, kernel_size=(1, 1), stride=(1, 1), bias=False), BatchNorm2d(128, eps=1e-05, momentum=0.1, affine=True, track_running_stats=True), ReLU(inplace=True), Conv2d(128, 128, kernel_size=(3, 3), stride=(2, 2), padding=(1, 1), bias=False), BatchNorm2d(128, eps=1e-05, momentum=0.1, affine=True, track_running_stats=True), ReLU(inplace=True), Conv2d(128, 512, kernel_size=(1, 1), stride=(1, 1), bias=False), BatchNorm2d(512, eps=1e-05, momentum=0.1, affine=True, track_running_stats=True), Conv2d(256, 512, kernel_size=(1, 1), stride=(2, 2), bias=False), BatchNorm2d(512, eps=1e-05, momentum=0.1, affine=True, track_running_stats=True), ReLU(inplace=True), Conv2d(512, 128, kernel_size=(1, 1), stride=(1, 1), bias=False), BatchNorm2d(128, eps=1e-05, momentum=0.1, affine=True, track_running_stats=True), ReLU(inplace=True), Conv2d(128, 128, kernel_size=(3, 3), stride=(1, 1), padding=(1, 1), bias=False), BatchNorm2d(128, eps=1e-05, momentum=0.1, affine=True, track_running_stats=True), ReLU(inplace=True), Conv2d(128, 512, kernel_size=(1, 1), stride=(1, 1), bias=False), BatchNorm2d(512, eps=1e-05, momentum=0.1, affine=True, track_running_stats=True), ReLU(inplace=True), Conv2d(512, 128, kernel_size=(1, 1), stride=(1, 1), bias=False), BatchNorm2d(128, eps=1e-05, momentum=0.1, affine=True, track_running_stats=True), ReLU(inplace=True), Conv2d(128, 128, kernel_size=(3, 3), stride=(1, 1), padding=(1, 1), bias=False), BatchNorm2d(128, eps=1e-05, momentum=0.1, affine=True, track_running_stats=True), ReLU(inplace=True), Conv2d(128, 512, kernel_size=(1, 1), stride=(1, 1), bias=False), BatchNorm2d(512, eps=1e-05, momentum=0.1, affine=True, track_running_stats=True), ReLU(inplace=True), Conv2d(512, 128, kernel_size=(1, 1), stride=(1, 1), bias=False), BatchNorm2d(128, eps=1e-05, momentum=0.1, affine=True, track_running_stats=True), ReLU(inplace=True), Conv2d(128, 128, kernel_size=(3, 3), stride=(1, 1), padding=(1, 1), bias=False), BatchNorm2d(128, eps=1e-05, momentum=0.1, affine=True, track_running_stats=True), ReLU(inplace=True), Conv2d(128, 512, kernel_size=(1, 1), stride=(1, 1), bias=False), BatchNorm2d(512, eps=1e-05, momentum=0.1, affine=True, track_running_stats=True), ReLU(inplace=True), Conv2d(512, 256, kernel_size=(1, 1), stride=(1, 1), bias=False), BatchNorm2d(256, eps=1e-05, momentum=0.1, affine=True, track_running_stats=True), ReLU(inplace=True), Conv2d(256, 256, kernel_size=(3, 3), stride=(1, 1), padding=(1, 1), bias=False), BatchNorm2d(256, eps=1e-05, momentum=0.1, affine=True, track_running_stats=True), ReLU(inplace=True), Conv2d(256, 1024, kernel_size=(1, 1), stride=(1, 1), bias=False), BatchNorm2d(1024, eps=1e-05, momentum=0.1, affine=True, track_running_stats=True), Conv2d(512, 1024, kernel_size=(1, 1), stride=(1, 1), bias=False), BatchNorm2d(1024, eps=1e-05, momentum=0.1, affine=True, track_running_stats=True), ReLU(inplace=True), Conv2d(1024, 256, kernel_size=(1, 1), stride=(1, 1), bias=False), BatchNorm2d(256, eps=1e-05, momentum=0.1, affine=True, track_running_stats=True), ReLU(inplace=True), Conv2d(256, 256, kernel_size=(3, 3), stride=(1, 1), padding=(2, 2), dilation=(2, 2), bias=False), BatchNorm2d(256, eps=1e-05, momentum=0.1, affine=True, track_running_stats=True), ReLU(inplace=True), Conv2d(256, 1024, kernel_size=(1, 1), stride=(1, 1), bias=False), BatchNorm2d(1024, eps=1e-05, momentum=0.1, affine=True, track_running_stats=True), ReLU(inplace=True), Conv2d(1024, 256, kernel_size=(1, 1), stride=(1, 1), bias=False), BatchNorm2d(256, eps=1e-05, momentum=0.1, affine=True, track_running_stats=True), ReLU(inplace=True), Conv2d(256, 256, kernel_size=(3, 3), stride=(1, 1), padding=(2, 2), dilation=(2, 2), bias=False), BatchNorm2d(256, eps=1e-05, momentum=0.1, affine=True, track_running_stats=True), ReLU(inplace=True), Conv2d(256, 1024, kernel_size=(1, 1), stride=(1, 1), bias=False), BatchNorm2d(1024, eps=1e-05, momentum=0.1, affine=True, track_running_stats=True), ReLU(inplace=True), Conv2d(1024, 256, kernel_size=(1, 1), stride=(1, 1), bias=False), BatchNorm2d(256, eps=1e-05, momentum=0.1, affine=True, track_running_stats=True), ReLU(inplace=True), Conv2d(256, 256, kernel_size=(3, 3), stride=(1, 1), padding=(2, 2), dilation=(2, 2), bias=False), BatchNorm2d(256, eps=1e-05, momentum=0.1, affine=True, track_running_stats=True), ReLU(inplace=True), Conv2d(256, 1024, kernel_size=(1, 1), stride=(1, 1), bias=False), BatchNorm2d(1024, eps=1e-05, momentum=0.1, affine=True, track_running_stats=True), ReLU(inplace=True), Conv2d(1024, 256, kernel_size=(1, 1), stride=(1, 1), bias=False), BatchNorm2d(256, eps=1e-05, momentum=0.1, affine=True, track_running_stats=True), ReLU(inplace=True), Conv2d(256, 256, kernel_size=(3, 3), stride=(1, 1), padding=(2, 2), dilation=(2, 2), bias=False), BatchNorm2d(256, eps=1e-05, momentum=0.1, affine=True, track_running_stats=True), ReLU(inplace=True), Conv2d(256, 1024, kernel_size=(1, 1), stride=(1, 1), bias=False), BatchNorm2d(1024, eps=1e-05, momentum=0.1, affine=True, track_running_stats=True), ReLU(inplace=True), Conv2d(1024, 256, kernel_size=(1, 1), stride=(1, 1), bias=False), BatchNorm2d(256, eps=1e-05, momentum=0.1, affine=True, track_running_stats=True), ReLU(inplace=True), Conv2d(256, 256, kernel_size=(3, 3), stride=(1, 1), padding=(2, 2), dilation=(2, 2), bias=False), BatchNorm2d(256, eps=1e-05, momentum=0.1, affine=True, track_running_stats=True), ReLU(inplace=True), Conv2d(256, 1024, kernel_size=(1, 1), stride=(1, 1), bias=False), BatchNorm2d(1024, eps=1e-05, momentum=0.1, affine=True, track_running_stats=True), ReLU(inplace=True), Conv2d(1024, 256, kernel_size=(1, 1), stride=(1, 1), bias=False), BatchNorm2d(256, eps=1e-05, momentum=0.1, affine=True, track_running_stats=True), ReLU(inplace=True), Conv2d(256, 256, kernel_size=(3, 3), stride=(1, 1), padding=(2, 2), dilation=(2, 2), bias=False), BatchNorm2d(256, eps=1e-05, momentum=0.1, affine=True, track_running_stats=True), ReLU(inplace=True), Conv2d(256, 1024, kernel_size=(1, 1), stride=(1, 1), bias=False), BatchNorm2d(1024, eps=1e-05, momentum=0.1, affine=True, track_running_stats=True), ReLU(inplace=True), Conv2d(1024, 256, kernel_size=(1, 1), stride=(1, 1), bias=False), BatchNorm2d(256, eps=1e-05, momentum=0.1, affine=True, track_running_stats=True), ReLU(inplace=True), Conv2d(256, 256, kernel_size=(3, 3), stride=(1, 1), padding=(2, 2), dilation=(2, 2), bias=False), BatchNorm2d(256, eps=1e-05, momentum=0.1, affine=True, track_running_stats=True), ReLU(inplace=True), Conv2d(256, 1024, kernel_size=(1, 1), stride=(1, 1), bias=False), BatchNorm2d(1024, eps=1e-05, momentum=0.1, affine=True, track_running_stats=True), ReLU(inplace=True), Conv2d(1024, 256, kernel_size=(1, 1), stride=(1, 1), bias=False), BatchNorm2d(256, eps=1e-05, momentum=0.1, affine=True, track_running_stats=True), ReLU(inplace=True), Conv2d(256, 256, kernel_size=(3, 3), stride=(1, 1), padding=(2, 2), dilation=(2, 2), bias=False), BatchNorm2d(256, eps=1e-05, momentum=0.1, affine=True, track_running_stats=True), ReLU(inplace=True), Conv2d(256, 1024, kernel_size=(1, 1), stride=(1, 1), bias=False), BatchNorm2d(1024, eps=1e-05, momentum=0.1, affine=True, track_running_stats=True), ReLU(inplace=True), Conv2d(1024, 256, kernel_size=(1, 1), stride=(1, 1), bias=False), BatchNorm2d(256, eps=1e-05, momentum=0.1, affine=True, track_running_stats=True), ReLU(inplace=True), Conv2d(256, 256, kernel_size=(3, 3), stride=(1, 1), padding=(2, 2), dilation=(2, 2), bias=False), BatchNorm2d(256, eps=1e-05, momentum=0.1, affine=True, track_running_stats=True), ReLU(inplace=True), Conv2d(256, 1024, kernel_size=(1, 1), stride=(1, 1), bias=False), BatchNorm2d(1024, eps=1e-05, momentum=0.1, affine=True, track_running_stats=True), ReLU(inplace=True), Conv2d(1024, 256, kernel_size=(1, 1), stride=(1, 1), bias=False), BatchNorm2d(256, eps=1e-05, momentum=0.1, affine=True, track_running_stats=True), ReLU(inplace=True), Conv2d(256, 256, kernel_size=(3, 3), stride=(1, 1), padding=(2, 2), dilation=(2, 2), bias=False), BatchNorm2d(256, eps=1e-05, momentum=0.1, affine=True, track_running_stats=True), ReLU(inplace=True), Conv2d(256, 1024, kernel_size=(1, 1), stride=(1, 1), bias=False), BatchNorm2d(1024, eps=1e-05, momentum=0.1, affine=True, track_running_stats=True), ReLU(inplace=True), Conv2d(1024, 256, kernel_size=(1, 1), stride=(1, 1), bias=False), BatchNorm2d(256, eps=1e-05, momentum=0.1, affine=True, track_running_stats=True), ReLU(inplace=True), Conv2d(256, 256, kernel_size=(3, 3), stride=(1, 1), padding=(2, 2), dilation=(2, 2), bias=False), BatchNorm2d(256, eps=1e-05, momentum=0.1, affine=True, track_running_stats=True), ReLU(inplace=True), Conv2d(256, 1024, kernel_size=(1, 1), stride=(1, 1), bias=False), BatchNorm2d(1024, eps=1e-05, momentum=0.1, affine=True, track_running_stats=True), ReLU(inplace=True), Conv2d(1024, 256, kernel_size=(1, 1), stride=(1, 1), bias=False), BatchNorm2d(256, eps=1e-05, momentum=0.1, affine=True, track_running_stats=True), ReLU(inplace=True), Conv2d(256, 256, kernel_size=(3, 3), stride=(1, 1), padding=(2, 2), dilation=(2, 2), bias=False), BatchNorm2d(256, eps=1e-05, momentum=0.1, affine=True, track_running_stats=True), ReLU(inplace=True), Conv2d(256, 1024, kernel_size=(1, 1), stride=(1, 1), bias=False), BatchNorm2d(1024, eps=1e-05, momentum=0.1, affine=True, track_running_stats=True), ReLU(inplace=True), Conv2d(1024, 256, kernel_size=(1, 1), stride=(1, 1), bias=False), BatchNorm2d(256, eps=1e-05, momentum=0.1, affine=True, track_running_stats=True), ReLU(inplace=True), Conv2d(256, 256, kernel_size=(3, 3), stride=(1, 1), padding=(2, 2), dilation=(2, 2), bias=False), BatchNorm2d(256, eps=1e-05, momentum=0.1, affine=True, track_running_stats=True), ReLU(inplace=True), Conv2d(256, 1024, kernel_size=(1, 1), stride=(1, 1), bias=False), BatchNorm2d(1024, eps=1e-05, momentum=0.1, affine=True, track_running_stats=True), ReLU(inplace=True), Conv2d(1024, 256, kernel_size=(1, 1), stride=(1, 1), bias=False), BatchNorm2d(256, eps=1e-05, momentum=0.1, affine=True, track_running_stats=True), ReLU(inplace=True), Conv2d(256, 256, kernel_size=(3, 3), stride=(1, 1), padding=(2, 2), dilation=(2, 2), bias=False), BatchNorm2d(256, eps=1e-05, momentum=0.1, affine=True, track_running_stats=True), ReLU(inplace=True), Conv2d(256, 1024, kernel_size=(1, 1), stride=(1, 1), bias=False), BatchNorm2d(1024, eps=1e-05, momentum=0.1, affine=True, track_running_stats=True), ReLU(inplace=True), Conv2d(1024, 256, kernel_size=(1, 1), stride=(1, 1), bias=False), BatchNorm2d(256, eps=1e-05, momentum=0.1, affine=True, track_running_stats=True), ReLU(inplace=True), Conv2d(256, 256, kernel_size=(3, 3), stride=(1, 1), padding=(2, 2), dilation=(2, 2), bias=False), BatchNorm2d(256, eps=1e-05, momentum=0.1, affine=True, track_running_stats=True), ReLU(inplace=True), Conv2d(256, 1024, kernel_size=(1, 1), stride=(1, 1), bias=False), BatchNorm2d(1024, eps=1e-05, momentum=0.1, affine=True, track_running_stats=True), ReLU(inplace=True), Conv2d(1024, 256, kernel_size=(1, 1), stride=(1, 1), bias=False), BatchNorm2d(256, eps=1e-05, momentum=0.1, affine=True, track_running_stats=True), ReLU(inplace=True), Conv2d(256, 256, kernel_size=(3, 3), stride=(1, 1), padding=(2, 2), dilation=(2, 2), bias=False), BatchNorm2d(256, eps=1e-05, momentum=0.1, affine=True, track_running_stats=True), ReLU(inplace=True), Conv2d(256, 1024, kernel_size=(1, 1), stride=(1, 1), bias=False), BatchNorm2d(1024, eps=1e-05, momentum=0.1, affine=True, track_running_stats=True), ReLU(inplace=True), Conv2d(1024, 256, kernel_size=(1, 1), stride=(1, 1), bias=False), BatchNorm2d(256, eps=1e-05, momentum=0.1, affine=True, track_running_stats=True), ReLU(inplace=True), Conv2d(256, 256, kernel_size=(3, 3), stride=(1, 1), padding=(2, 2), dilation=(2, 2), bias=False), BatchNorm2d(256, eps=1e-05, momentum=0.1, affine=True, track_running_stats=True), ReLU(inplace=True), Conv2d(256, 1024, kernel_size=(1, 1), stride=(1, 1), bias=False), BatchNorm2d(1024, eps=1e-05, momentum=0.1, affine=True, track_running_stats=True), ReLU(inplace=True), Conv2d(1024, 256, kernel_size=(1, 1), stride=(1, 1), bias=False), BatchNorm2d(256, eps=1e-05, momentum=0.1, affine=True, track_running_stats=True), ReLU(inplace=True), Conv2d(256, 256, kernel_size=(3, 3), stride=(1, 1), padding=(2, 2), dilation=(2, 2), bias=False), BatchNorm2d(256, eps=1e-05, momentum=0.1, affine=True, track_running_stats=True), ReLU(inplace=True), Conv2d(256, 1024, kernel_size=(1, 1), stride=(1, 1), bias=False), BatchNorm2d(1024, eps=1e-05, momentum=0.1, affine=True, track_running_stats=True), ReLU(inplace=True), Conv2d(1024, 256, kernel_size=(1, 1), stride=(1, 1), bias=False), BatchNorm2d(256, eps=1e-05, momentum=0.1, affine=True, track_running_stats=True), ReLU(inplace=True), Conv2d(256, 256, kernel_size=(3, 3), stride=(1, 1), padding=(2, 2), dilation=(2, 2), bias=False), BatchNorm2d(256, eps=1e-05, momentum=0.1, affine=True, track_running_stats=True), ReLU(inplace=True), Conv2d(256, 1024, kernel_size=(1, 1), stride=(1, 1), bias=False), BatchNorm2d(1024, eps=1e-05, momentum=0.1, affine=True, track_running_stats=True), ReLU(inplace=True), Conv2d(1024, 256, kernel_size=(1, 1), stride=(1, 1), bias=False), BatchNorm2d(256, eps=1e-05, momentum=0.1, affine=True, track_running_stats=True), ReLU(inplace=True), Conv2d(256, 256, kernel_size=(3, 3), stride=(1, 1), padding=(2, 2), dilation=(2, 2), bias=False), BatchNorm2d(256, eps=1e-05, momentum=0.1, affine=True, track_running_stats=True), ReLU(inplace=True), Conv2d(256, 1024, kernel_size=(1, 1), stride=(1, 1), bias=False), BatchNorm2d(1024, eps=1e-05, momentum=0.1, affine=True, track_running_stats=True), ReLU(inplace=True), Conv2d(1024, 256, kernel_size=(1, 1), stride=(1, 1), bias=False), BatchNorm2d(256, eps=1e-05, momentum=0.1, affine=True, track_running_stats=True), ReLU(inplace=True), Conv2d(256, 256, kernel_size=(3, 3), stride=(1, 1), padding=(2, 2), dilation=(2, 2), bias=False), BatchNorm2d(256, eps=1e-05, momentum=0.1, affine=True, track_running_stats=True), ReLU(inplace=True), Conv2d(256, 1024, kernel_size=(1, 1), stride=(1, 1), bias=False), BatchNorm2d(1024, eps=1e-05, momentum=0.1, affine=True, track_running_stats=True), ReLU(inplace=True), Conv2d(1024, 256, kernel_size=(1, 1), stride=(1, 1), bias=False), BatchNorm2d(256, eps=1e-05, momentum=0.1, affine=True, track_running_stats=True), ReLU(inplace=True), Conv2d(256, 256, kernel_size=(3, 3), stride=(1, 1), padding=(2, 2), dilation=(2, 2), bias=False), BatchNorm2d(256, eps=1e-05, momentum=0.1, affine=True, track_running_stats=True), ReLU(inplace=True), Conv2d(256, 1024, kernel_size=(1, 1), stride=(1, 1), bias=False), BatchNorm2d(1024, eps=1e-05, momentum=0.1, affine=True, track_running_stats=True), ReLU(inplace=True), Conv2d(1024, 512, kernel_size=(1, 1), stride=(1, 1), bias=False), BatchNorm2d(512, eps=1e-05, momentum=0.1, affine=True, track_running_stats=True), ReLU(inplace=True), Conv2d(512, 512, kernel_size=(3, 3), stride=(1, 1), padding=(2, 2), dilation=(2, 2), bias=False), BatchNorm2d(512, eps=1e-05, momentum=0.1, affine=True, track_running_stats=True), ReLU(inplace=True), Conv2d(512, 2048, kernel_size=(1, 1), stride=(1, 1), bias=False), BatchNorm2d(2048, eps=1e-05, momentum=0.1, affine=True, track_running_stats=True), Conv2d(1024, 2048, kernel_size=(1, 1), stride=(1, 1), bias=False), BatchNorm2d(2048, eps=1e-05, momentum=0.1, affine=True, track_running_stats=True), ReLU(inplace=True), Conv2d(2048, 512, kernel_size=(1, 1), stride=(1, 1), bias=False), BatchNorm2d(512, eps=1e-05, momentum=0.1, affine=True, track_running_stats=True), ReLU(inplace=True), Conv2d(512, 512, kernel_size=(3, 3), stride=(1, 1), padding=(4, 4), dilation=(4, 4), bias=False), BatchNorm2d(512, eps=1e-05, momentum=0.1, affine=True, track_running_stats=True), ReLU(inplace=True), Conv2d(512, 2048, kernel_size=(1, 1), stride=(1, 1), bias=False), BatchNorm2d(2048, eps=1e-05, momentum=0.1, affine=True, track_running_stats=True), ReLU(inplace=True), Conv2d(2048, 512, kernel_size=(1, 1), stride=(1, 1), bias=False), BatchNorm2d(512, eps=1e-05, momentum=0.1, affine=True, track_running_stats=True), ReLU(inplace=True), Conv2d(512, 512, kernel_size=(3, 3), stride=(1, 1), padding=(4, 4), dilation=(4, 4), bias=False), BatchNorm2d(512, eps=1e-05, momentum=0.1, affine=True, track_running_stats=True), ReLU(inplace=True), Conv2d(512, 2048, kernel_size=(1, 1), stride=(1, 1), bias=False), BatchNorm2d(2048, eps=1e-05, momentum=0.1, affine=True, track_running_stats=True), ReLU(inplace=True), Conv2d(2048, 512, kernel_size=(3, 3), stride=(1, 1), padding=(1, 1)), BatchNorm2d(512, eps=1e-05, momentum=0.1, affine=True, track_running_stats=True), ReLU(), Dropout(p=0.1, inplace=False), Conv2d(512, 1, kernel_size=(1, 1), stride=(1, 1)), Upsample(scale_factor=8.0, mode='bilinear'), Conv2d(1024, 256, kernel_size=(3, 3), stride=(1, 1), padding=(1, 1)), BatchNorm2d(256, eps=1e-05, momentum=0.1, affine=True, track_running_stats=True), ReLU(), Dropout(p=0.1, inplace=False), Conv2d(256, 1, kernel_size=(1, 1), stride=(1, 1)), Upsample(scale_factor=8.0, mode='bilinear')]\n",
      "321\n"
     ]
    }
   ],
   "source": [
    "print(traced_fcn)\n",
    "print(len(traced_fcn))"
   ]
  },
  {
   "cell_type": "code",
   "execution_count": 59,
   "metadata": {
    "colab": {
     "base_uri": "https://localhost:8080/"
    },
    "id": "FDVpk0esBFE6",
    "outputId": "c9c58f43-3add-48a6-c362-b89d1c9628ea"
   },
   "outputs": [
    {
     "data": {
      "text/plain": [
       "<torch.utils.hooks.RemovableHandle at 0x7e2906b6e8c0>"
      ]
     },
     "execution_count": 59,
     "metadata": {},
     "output_type": "execute_result"
    }
   ],
   "source": [
    "# model = torchvision.models.vgg19(pretrained = True)\n",
    "fcn_model.eval()\n",
    "layer = traced_fcn[-4] # Last ReLU of the conv layers\n",
    "layer.register_forward_hook(hook_store_A)\n",
    "layer.register_backward_hook(hook_store_dydA)\n"
   ]
  },
  {
   "cell_type": "code",
   "execution_count": 60,
   "metadata": {
    "colab": {
     "base_uri": "https://localhost:8080/",
     "height": 339
    },
    "id": "ZjriVeaP5M-A",
    "outputId": "42bcfa75-ec75-4bee-e327-9630cc463366"
   },
   "outputs": [
    {
     "ename": "AttributeError",
     "evalue": "module 'torchvision.transforms.v2.functional' has no attribute 'relu'",
     "output_type": "error",
     "traceback": [
      "\u001b[0;31m---------------------------------------------------------------------------\u001b[0m",
      "\u001b[0;31mAttributeError\u001b[0m                            Traceback (most recent call last)",
      "\u001b[0;32m<ipython-input-60-3888941ba42f>\u001b[0m in \u001b[0;36m<cell line: 16>\u001b[0;34m()\u001b[0m\n\u001b[1;32m     14\u001b[0m \u001b[0;31m# model = model.features\u001b[0m\u001b[0;34m\u001b[0m\u001b[0;34m\u001b[0m\u001b[0m\n\u001b[1;32m     15\u001b[0m \u001b[0mequip_model_deconv\u001b[0m\u001b[0;34m(\u001b[0m\u001b[0mfcn_model\u001b[0m\u001b[0;34m)\u001b[0m\u001b[0;34m\u001b[0m\u001b[0;34m\u001b[0m\u001b[0m\n\u001b[0;32m---> 16\u001b[0;31m \u001b[0mresult\u001b[0m \u001b[0;34m=\u001b[0m \u001b[0mgrad_view\u001b[0m\u001b[0;34m(\u001b[0m\u001b[0mfcn_model\u001b[0m\u001b[0;34m,\u001b[0m \u001b[0;36m13\u001b[0m\u001b[0;34m)\u001b[0m\u001b[0;34m\u001b[0m\u001b[0;34m\u001b[0m\u001b[0m\n\u001b[0m\u001b[1;32m     17\u001b[0m \u001b[0mutils\u001b[0m\u001b[0;34m.\u001b[0m\u001b[0msave_image\u001b[0m\u001b[0;34m(\u001b[0m\u001b[0mresult\u001b[0m\u001b[0;34m,\u001b[0m \u001b[0;34m'post-pre-fire-resnet-deconv.png'\u001b[0m\u001b[0;34m)\u001b[0m\u001b[0;34m\u001b[0m\u001b[0;34m\u001b[0m\u001b[0m\n",
      "\u001b[0;32m<ipython-input-60-3888941ba42f>\u001b[0m in \u001b[0;36mgrad_view\u001b[0;34m(model, idx)\u001b[0m\n\u001b[1;32m      7\u001b[0m     \u001b[0minput\u001b[0m \u001b[0;34m=\u001b[0m \u001b[0mimg\u001b[0m\u001b[0;34m.\u001b[0m\u001b[0mview\u001b[0m\u001b[0;34m(\u001b[0m\u001b[0;36m1\u001b[0m\u001b[0;34m,\u001b[0m \u001b[0mimg\u001b[0m\u001b[0;34m.\u001b[0m\u001b[0msize\u001b[0m\u001b[0;34m(\u001b[0m\u001b[0;36m0\u001b[0m\u001b[0;34m)\u001b[0m\u001b[0;34m,\u001b[0m \u001b[0mimg\u001b[0m\u001b[0;34m.\u001b[0m\u001b[0msize\u001b[0m\u001b[0;34m(\u001b[0m\u001b[0;36m1\u001b[0m\u001b[0;34m)\u001b[0m\u001b[0;34m,\u001b[0m \u001b[0mimg\u001b[0m\u001b[0;34m.\u001b[0m\u001b[0msize\u001b[0m\u001b[0;34m(\u001b[0m\u001b[0;36m2\u001b[0m\u001b[0;34m)\u001b[0m\u001b[0;34m)\u001b[0m\u001b[0;34m.\u001b[0m\u001b[0mrequires_grad_\u001b[0m\u001b[0;34m(\u001b[0m\u001b[0;34m)\u001b[0m\u001b[0;34m\u001b[0m\u001b[0;34m\u001b[0m\u001b[0m\n\u001b[1;32m      8\u001b[0m     \u001b[0moutput\u001b[0m \u001b[0;34m=\u001b[0m \u001b[0mmodel\u001b[0m\u001b[0;34m(\u001b[0m\u001b[0minput\u001b[0m\u001b[0;34m)\u001b[0m\u001b[0;34m\u001b[0m\u001b[0;34m\u001b[0m\u001b[0m\n\u001b[0;32m----> 9\u001b[0;31m     \u001b[0mresult\u001b[0m \u001b[0;34m=\u001b[0m \u001b[0mtorch\u001b[0m\u001b[0;34m.\u001b[0m\u001b[0mautograd\u001b[0m\u001b[0;34m.\u001b[0m\u001b[0mgrad\u001b[0m\u001b[0;34m(\u001b[0m\u001b[0moutput\u001b[0m\u001b[0;34m.\u001b[0m\u001b[0mmax\u001b[0m\u001b[0;34m(\u001b[0m\u001b[0;34m)\u001b[0m\u001b[0;34m,\u001b[0m \u001b[0minput\u001b[0m\u001b[0;34m)\u001b[0m\u001b[0;34m\u001b[0m\u001b[0;34m\u001b[0m\u001b[0m\n\u001b[0m\u001b[1;32m     10\u001b[0m     \u001b[0mresult\u001b[0m \u001b[0;34m=\u001b[0m \u001b[0mresult\u001b[0m \u001b[0;34m/\u001b[0m \u001b[0mresult\u001b[0m\u001b[0;34m.\u001b[0m\u001b[0mmax\u001b[0m\u001b[0;34m(\u001b[0m\u001b[0;34m)\u001b[0m \u001b[0;34m+\u001b[0m \u001b[0;36m0.5\u001b[0m\u001b[0;34m\u001b[0m\u001b[0;34m\u001b[0m\u001b[0m\n\u001b[1;32m     11\u001b[0m     \u001b[0;32mreturn\u001b[0m \u001b[0mresult\u001b[0m\u001b[0;34m\u001b[0m\u001b[0;34m\u001b[0m\u001b[0m\n",
      "\u001b[0;32m/usr/local/lib/python3.10/dist-packages/torch/autograd/__init__.py\u001b[0m in \u001b[0;36mgrad\u001b[0;34m(outputs, inputs, grad_outputs, retain_graph, create_graph, only_inputs, allow_unused, is_grads_batched, materialize_grads)\u001b[0m\n\u001b[1;32m    494\u001b[0m         )\n\u001b[1;32m    495\u001b[0m     \u001b[0;32melse\u001b[0m\u001b[0;34m:\u001b[0m\u001b[0;34m\u001b[0m\u001b[0;34m\u001b[0m\u001b[0m\n\u001b[0;32m--> 496\u001b[0;31m         result = _engine_run_backward(\n\u001b[0m\u001b[1;32m    497\u001b[0m             \u001b[0moutputs\u001b[0m\u001b[0;34m,\u001b[0m\u001b[0;34m\u001b[0m\u001b[0;34m\u001b[0m\u001b[0m\n\u001b[1;32m    498\u001b[0m             \u001b[0mgrad_outputs_\u001b[0m\u001b[0;34m,\u001b[0m\u001b[0;34m\u001b[0m\u001b[0;34m\u001b[0m\u001b[0m\n",
      "\u001b[0;32m/usr/local/lib/python3.10/dist-packages/torch/autograd/graph.py\u001b[0m in \u001b[0;36m_engine_run_backward\u001b[0;34m(t_outputs, *args, **kwargs)\u001b[0m\n\u001b[1;32m    823\u001b[0m         \u001b[0munregister_hooks\u001b[0m \u001b[0;34m=\u001b[0m \u001b[0m_register_logging_hooks_on_whole_graph\u001b[0m\u001b[0;34m(\u001b[0m\u001b[0mt_outputs\u001b[0m\u001b[0;34m)\u001b[0m\u001b[0;34m\u001b[0m\u001b[0;34m\u001b[0m\u001b[0m\n\u001b[1;32m    824\u001b[0m     \u001b[0;32mtry\u001b[0m\u001b[0;34m:\u001b[0m\u001b[0;34m\u001b[0m\u001b[0;34m\u001b[0m\u001b[0m\n\u001b[0;32m--> 825\u001b[0;31m         return Variable._execution_engine.run_backward(  # Calls into the C++ engine to run the backward pass\n\u001b[0m\u001b[1;32m    826\u001b[0m             \u001b[0mt_outputs\u001b[0m\u001b[0;34m,\u001b[0m \u001b[0;34m*\u001b[0m\u001b[0margs\u001b[0m\u001b[0;34m,\u001b[0m \u001b[0;34m**\u001b[0m\u001b[0mkwargs\u001b[0m\u001b[0;34m\u001b[0m\u001b[0;34m\u001b[0m\u001b[0m\n\u001b[1;32m    827\u001b[0m         )  # Calls into the C++ engine to run the backward pass\n",
      "\u001b[0;32m/usr/local/lib/python3.10/dist-packages/torch/nn/modules/module.py\u001b[0m in \u001b[0;36m__call__\u001b[0;34m(self, *args, **kwargs)\u001b[0m\n\u001b[1;32m     96\u001b[0m             \u001b[0;32mif\u001b[0m \u001b[0mmodule\u001b[0m \u001b[0;32mis\u001b[0m \u001b[0;32mNone\u001b[0m\u001b[0;34m:\u001b[0m\u001b[0;34m\u001b[0m\u001b[0;34m\u001b[0m\u001b[0m\n\u001b[1;32m     97\u001b[0m                 \u001b[0;32mraise\u001b[0m \u001b[0mRuntimeError\u001b[0m\u001b[0;34m(\u001b[0m\u001b[0;34m\"You are trying to call the hook of a dead Module!\"\u001b[0m\u001b[0;34m)\u001b[0m\u001b[0;34m\u001b[0m\u001b[0;34m\u001b[0m\u001b[0m\n\u001b[0;32m---> 98\u001b[0;31m             \u001b[0;32mreturn\u001b[0m \u001b[0mself\u001b[0m\u001b[0;34m.\u001b[0m\u001b[0mhook\u001b[0m\u001b[0;34m(\u001b[0m\u001b[0mmodule\u001b[0m\u001b[0;34m,\u001b[0m \u001b[0;34m*\u001b[0m\u001b[0margs\u001b[0m\u001b[0;34m,\u001b[0m \u001b[0;34m**\u001b[0m\u001b[0mkwargs\u001b[0m\u001b[0;34m)\u001b[0m\u001b[0;34m\u001b[0m\u001b[0;34m\u001b[0m\u001b[0m\n\u001b[0m\u001b[1;32m     99\u001b[0m         \u001b[0;32mreturn\u001b[0m \u001b[0mself\u001b[0m\u001b[0;34m.\u001b[0m\u001b[0mhook\u001b[0m\u001b[0;34m(\u001b[0m\u001b[0;34m*\u001b[0m\u001b[0margs\u001b[0m\u001b[0;34m,\u001b[0m \u001b[0;34m**\u001b[0m\u001b[0mkwargs\u001b[0m\u001b[0;34m)\u001b[0m\u001b[0;34m\u001b[0m\u001b[0;34m\u001b[0m\u001b[0m\n\u001b[1;32m    100\u001b[0m \u001b[0;34m\u001b[0m\u001b[0m\n",
      "\u001b[0;32m<ipython-input-34-96847d3f6ad8>\u001b[0m in \u001b[0;36mrelu_backward_deconv_hook\u001b[0;34m(module, grad_input, grad_output)\u001b[0m\n\u001b[1;32m      1\u001b[0m \u001b[0;32mdef\u001b[0m \u001b[0mrelu_backward_deconv_hook\u001b[0m\u001b[0;34m(\u001b[0m\u001b[0mmodule\u001b[0m\u001b[0;34m,\u001b[0m \u001b[0mgrad_input\u001b[0m\u001b[0;34m,\u001b[0m \u001b[0mgrad_output\u001b[0m\u001b[0;34m)\u001b[0m\u001b[0;34m:\u001b[0m\u001b[0;34m\u001b[0m\u001b[0;34m\u001b[0m\u001b[0m\n\u001b[0;32m----> 2\u001b[0;31m     \u001b[0;32mreturn\u001b[0m \u001b[0mF\u001b[0m\u001b[0;34m.\u001b[0m\u001b[0mrelu\u001b[0m\u001b[0;34m(\u001b[0m\u001b[0mgrad_output\u001b[0m\u001b[0;34m[\u001b[0m\u001b[0;36m0\u001b[0m\u001b[0;34m]\u001b[0m\u001b[0;34m)\u001b[0m\u001b[0;34m,\u001b[0m\u001b[0;34m\u001b[0m\u001b[0;34m\u001b[0m\u001b[0m\n\u001b[0m\u001b[1;32m      3\u001b[0m \u001b[0;34m\u001b[0m\u001b[0m\n\u001b[1;32m      4\u001b[0m \u001b[0;32mdef\u001b[0m \u001b[0mequip_model_deconv\u001b[0m\u001b[0;34m(\u001b[0m\u001b[0mmodel\u001b[0m\u001b[0;34m)\u001b[0m\u001b[0;34m:\u001b[0m\u001b[0;34m\u001b[0m\u001b[0;34m\u001b[0m\u001b[0m\n\u001b[1;32m      5\u001b[0m     \u001b[0;32mfor\u001b[0m \u001b[0mm\u001b[0m \u001b[0;32min\u001b[0m \u001b[0mmodel\u001b[0m\u001b[0;34m.\u001b[0m\u001b[0mmodules\u001b[0m\u001b[0;34m(\u001b[0m\u001b[0;34m)\u001b[0m\u001b[0;34m:\u001b[0m\u001b[0;34m\u001b[0m\u001b[0;34m\u001b[0m\u001b[0m\n",
      "\u001b[0;31mAttributeError\u001b[0m: module 'torchvision.transforms.v2.functional' has no attribute 'relu'"
     ]
    }
   ],
   "source": [
    "def grad_view(model, idx):\n",
    "    to_tensor = transforms.ToTensor()\n",
    "    img = to_tensor(input_t[0])\n",
    "    img = 0.5 + 0.5 * (img - img.mean()) / img.std()\n",
    "    model.to(device)\n",
    "    img = img.to(device)\n",
    "    input = img.view(1, img.size(0), img.size(1), img.size(2)).requires_grad_()\n",
    "    output = model(input)\n",
    "    result = torch.autograd.grad(output.max(), input)\n",
    "    result = result / result.max() + 0.5\n",
    "    return result\n",
    "# model = torchvision.models.vgg16(pretrained = True)\n",
    "# model.eval()\n",
    "# model = model.features\n",
    "equip_model_deconv(fcn_model)\n",
    "result = grad_view(fcn_model, 13)\n",
    "utils.save_image(result, 'post-pre-fire-resnet-deconv.png')\n"
   ]
  },
  {
   "cell_type": "code",
   "execution_count": null,
   "metadata": {
    "id": "ZCFEWF1y52bP"
   },
   "outputs": [],
   "source": [
    "def heatmap(model, input, target_class, target_layer):\n",
    "  input = input.unsqueeze(0)\n",
    "  output = model(input)\n",
    "  target = output[0, target_class, :, :].mean()\n",
    "\n",
    "  with model.zero_grad():\n",
    "    target.backward()\n",
    "\n",
    "\n",
    "    alpha = target_layer.dydA.mean((2,3), keepdim=True)\n",
    "    L = torch.relu((alpha*target_layer.A).sum(1, keepdim=True))\n",
    "\n",
    "    L = F.interpolate(L, size=(input.size(2), input.size(3)), mode='bilinear',\n",
    "                         align_corners=False)\n",
    "    # Extract heatmap from the torch compute graph, disable gradient computation\n",
    "    L = L.squeeze().cpu().detach().numpy()\n",
    "\n",
    "    # normalize\n",
    "    L = torch.sigmoid(L)\n",
    "    L = (L - L.min())/ (L.max() - L)"
   ]
  },
  {
   "cell_type": "markdown",
   "metadata": {
    "id": "95YwGb6W5IWy"
   },
   "source": []
  }
 ],
 "metadata": {
  "colab": {
   "provenance": []
  },
  "kernelspec": {
   "display_name": "Python 3 (ipykernel)",
   "language": "python",
   "name": "python3"
  },
  "language_info": {
   "codemirror_mode": {
    "name": "ipython",
    "version": 3
   },
   "file_extension": ".py",
   "mimetype": "text/x-python",
   "name": "python",
   "nbconvert_exporter": "python",
   "pygments_lexer": "ipython3",
   "version": "3.11.9"
  }
 },
 "nbformat": 4,
 "nbformat_minor": 4
}
